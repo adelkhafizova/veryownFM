{
 "cells": [
  {
   "cell_type": "code",
   "execution_count": 1,
   "metadata": {},
   "outputs": [],
   "source": [
    "import numpy as np\n",
    "import pandas as pd\n",
    "\n",
    "from tqdm import tqdm_notebook\n",
    "\n",
    "from scipy.sparse import csr_matrix, csc_matrix, coo_matrix\n",
    "from sklearn.preprocessing import OneHotEncoder\n",
    "from sklearn.feature_extraction.text import CountVectorizer\n",
    "\n",
    "from sklearn.linear_model import LogisticRegression, Ridge\n",
    "from fastFM.als import FMClassification, FMRegression\n",
    "\n",
    "from sklearn.metrics import roc_auc_score, mean_squared_error\n",
    "\n",
    "import gc\n",
    "\n",
    "import matplotlib.pylab as plt\n",
    "%matplotlib inline"
   ]
  },
  {
   "cell_type": "code",
   "execution_count": 2,
   "metadata": {},
   "outputs": [],
   "source": [
    "folder = 'ml-10M100K'\n",
    "dtypes = {\n",
    "    'user':   'uint32',\n",
    "    'movie':  'uint16',\n",
    "    'rating': 'uint8'\n",
    "}\n",
    "test_size = 0.25"
   ]
  },
  {
   "cell_type": "code",
   "execution_count": 3,
   "metadata": {},
   "outputs": [],
   "source": [
    "def build_dataset_10m(folder, test_size):\n",
    "    print('load ratings....')\n",
    "    ratings = pd.read_csv(folder + '/ratings.dat', sep='::', header=None, engine='python',\n",
    "                          names=['user', 'movie', 'rating', 'timestamp'], dtype=dtypes)\n",
    "\n",
    "    print('build monthes....')\n",
    "    ratings['timestamp'] = pd.to_datetime(ratings.timestamp, unit='s')\n",
    "    min_date = ratings.timestamp.min()\n",
    "    ratings['monthes'] = (ratings.timestamp - min_date).dt.days // 28\n",
    "    ratings.monthes = ratings.monthes.astype('uint8')\n",
    "    ratings.drop('timestamp', 1, inplace=True)\n",
    "    \n",
    "    print('load movies....')\n",
    "    movies = pd.read_csv(folder + '/movies.dat', sep='::', engine='python',\n",
    "                         names=['movie', 'title', 'genres'], usecols=['movie', 'genres'], header=None, dtype=dtypes)\n",
    "\n",
    "    print('build genres ohe....')\n",
    "    sparse_genres = CountVectorizer().fit_transform(movies.genres.map(lambda x: x.replace('|', ' ')))\n",
    "    colnames = ['genre_{}'.format(col) for col in range(sparse_genres.shape[1])]\n",
    "    sparse_genres = pd.DataFrame(sparse_genres.todense().astype('uint8'), columns=colnames)\n",
    "    movies = pd.concat([movies[['movie']], sparse_genres], axis=1)\n",
    "    del(sparse_genres); gc.collect()\n",
    "    \n",
    "    print('join dataframes....')\n",
    "    dataset = pd.merge(ratings, movies, on='movie', how='inner')\n",
    "    del(ratings, movies); gc.collect()\n",
    "    \n",
    "    np.random.seed(42)\n",
    "    print('build train/test split...')\n",
    "    test_indexes = np.random.choice(dataset.index, int(test_size * dataset.shape[0]), replace=False)\n",
    "    test = dataset.loc[test_indexes]\n",
    "    train = dataset.drop(test_indexes)\n",
    "    del(dataset); gc.collect();\n",
    "    \n",
    "    print('building rated movies....')\n",
    "    rated_movies = train.groupby('user')['movie'].agg(lambda x: list(x))\n",
    "    train.loc[:, 'ratedMovies'] = train.user.map(rated_movies)\n",
    "    test.loc[:, 'ratedMovies'] = test.user.map(rated_movies)\n",
    "    del(rated_movies); gc.collect()\n",
    "    print('adding rated movies done')\n",
    "    return train, test\n",
    "\n",
    "# train, test = build_dataset_10m(folder, test_size)"
   ]
  },
  {
   "cell_type": "code",
   "execution_count": 42,
   "metadata": {},
   "outputs": [
    {
     "name": "stdout",
     "output_type": "stream",
     "text": [
      "load ratings....\n",
      "build monthes....\n",
      "load movies....\n",
      "build genres ohe....\n",
      "load users....\n",
      "join dataframes....\n",
      "build train/test split...\n",
      "building rated movies....\n",
      "adding rated movies done\n"
     ]
    }
   ],
   "source": [
    "folder = 'ml-1m'\n",
    "def build_dataset_1m(folder, test_size):\n",
    "    print('load ratings....')\n",
    "    ratings = pd.read_csv(folder + '/ratings.dat', sep='::', header=None, engine='python',\n",
    "                          names=['user', 'movie', 'rating', 'timestamp'], dtype=dtypes)\n",
    "\n",
    "    print('build monthes....')\n",
    "    ratings['timestamp'] = pd.to_datetime(ratings.timestamp, unit='s')\n",
    "    min_date = ratings.timestamp.min()\n",
    "    ratings['monthes'] = (ratings.timestamp - min_date).dt.days // 28\n",
    "    ratings.monthes = ratings.monthes.astype('uint8')\n",
    "    ratings.drop('timestamp', 1, inplace=True)\n",
    "    \n",
    "    print('load movies....')\n",
    "    movies = pd.read_csv(folder + '/movies.dat', sep='::', engine='python',\n",
    "                         names=['movie', 'title', 'genres'], usecols=['movie', 'genres'], header=None, dtype=dtypes)\n",
    "\n",
    "    print('build genres ohe....')\n",
    "    sparse_genres = CountVectorizer().fit_transform(movies.genres.map(lambda x: x.replace('|', ' ')))\n",
    "    colnames = ['genre_{}'.format(col) for col in range(sparse_genres.shape[1])]\n",
    "    sparse_genres = pd.DataFrame(sparse_genres.todense().astype('uint8'), columns=colnames)\n",
    "    movies = pd.concat([movies[['movie']], sparse_genres], axis=1)\n",
    "    del(sparse_genres); gc.collect()\n",
    "    \n",
    "    print('load users....')\n",
    "    users = pd.read_csv(folder + '/users.dat', sep='::', header=None, names=['user', 'gender', 'age', 'occupation', 'zip'], engine='python')\n",
    "    users.zip = np.unique(users.zip.values, return_inverse=True)[1]\n",
    "    \n",
    "    print('join dataframes....')\n",
    "    dataset = pd.merge(ratings, movies, on='movie', how='inner')\n",
    "    dataset = pd.merge(dataset, users, on='user', how='left')\n",
    "    del(ratings, movies); gc.collect()\n",
    "    \n",
    "    np.random.seed(42)\n",
    "    print('build train/test split...')\n",
    "    test_indexes = np.random.choice(dataset.index, int(test_size * dataset.shape[0]), replace=False)\n",
    "    test = dataset.loc[test_indexes]\n",
    "    train = dataset.drop(test_indexes)\n",
    "    del(dataset); gc.collect();\n",
    "    \n",
    "    print('building rated movies....')\n",
    "    rated_movies = train.groupby('user')['movie'].agg(lambda x: list(x))\n",
    "    train.loc[:, 'ratedMovies'] = train.user.map(rated_movies)\n",
    "    test.loc[:, 'ratedMovies'] = test.user.map(rated_movies)\n",
    "    del(rated_movies); gc.collect()\n",
    "    print('adding rated movies done')\n",
    "    return train, test\n",
    "\n",
    "train, test = build_dataset_1m(folder, test_size)"
   ]
  },
  {
   "cell_type": "markdown",
   "metadata": {},
   "source": [
    "## Data transform"
   ]
  },
  {
   "cell_type": "code",
   "execution_count": 43,
   "metadata": {},
   "outputs": [
    {
     "data": {
      "text/html": [
       "<div>\n",
       "<style scoped>\n",
       "    .dataframe tbody tr th:only-of-type {\n",
       "        vertical-align: middle;\n",
       "    }\n",
       "\n",
       "    .dataframe tbody tr th {\n",
       "        vertical-align: top;\n",
       "    }\n",
       "\n",
       "    .dataframe thead th {\n",
       "        text-align: right;\n",
       "    }\n",
       "</style>\n",
       "<table border=\"1\" class=\"dataframe\">\n",
       "  <thead>\n",
       "    <tr style=\"text-align: right;\">\n",
       "      <th></th>\n",
       "      <th>user</th>\n",
       "      <th>movie</th>\n",
       "      <th>rating</th>\n",
       "      <th>monthes</th>\n",
       "      <th>genre_0</th>\n",
       "      <th>genre_1</th>\n",
       "      <th>genre_2</th>\n",
       "      <th>genre_3</th>\n",
       "      <th>genre_4</th>\n",
       "      <th>genre_5</th>\n",
       "      <th>...</th>\n",
       "      <th>genre_15</th>\n",
       "      <th>genre_16</th>\n",
       "      <th>genre_17</th>\n",
       "      <th>genre_18</th>\n",
       "      <th>genre_19</th>\n",
       "      <th>gender</th>\n",
       "      <th>age</th>\n",
       "      <th>occupation</th>\n",
       "      <th>zip</th>\n",
       "      <th>ratedMovies</th>\n",
       "    </tr>\n",
       "  </thead>\n",
       "  <tbody>\n",
       "    <tr>\n",
       "      <th>1</th>\n",
       "      <td>2</td>\n",
       "      <td>1193</td>\n",
       "      <td>5</td>\n",
       "      <td>8</td>\n",
       "      <td>0</td>\n",
       "      <td>0</td>\n",
       "      <td>0</td>\n",
       "      <td>0</td>\n",
       "      <td>0</td>\n",
       "      <td>0</td>\n",
       "      <td>...</td>\n",
       "      <td>0</td>\n",
       "      <td>0</td>\n",
       "      <td>0</td>\n",
       "      <td>0</td>\n",
       "      <td>0</td>\n",
       "      <td>M</td>\n",
       "      <td>56</td>\n",
       "      <td>16</td>\n",
       "      <td>2248</td>\n",
       "      <td>[1193, 3105, 2321, 1962, 1207, 2028, 1246, 306...</td>\n",
       "    </tr>\n",
       "    <tr>\n",
       "      <th>2</th>\n",
       "      <td>12</td>\n",
       "      <td>1193</td>\n",
       "      <td>4</td>\n",
       "      <td>8</td>\n",
       "      <td>0</td>\n",
       "      <td>0</td>\n",
       "      <td>0</td>\n",
       "      <td>0</td>\n",
       "      <td>0</td>\n",
       "      <td>0</td>\n",
       "      <td>...</td>\n",
       "      <td>0</td>\n",
       "      <td>0</td>\n",
       "      <td>0</td>\n",
       "      <td>0</td>\n",
       "      <td>0</td>\n",
       "      <td>M</td>\n",
       "      <td>25</td>\n",
       "      <td>12</td>\n",
       "      <td>1165</td>\n",
       "      <td>[1193, 2804, 1198, 593, 1247, 1641, 1221, 111,...</td>\n",
       "    </tr>\n",
       "    <tr>\n",
       "      <th>3</th>\n",
       "      <td>15</td>\n",
       "      <td>1193</td>\n",
       "      <td>4</td>\n",
       "      <td>8</td>\n",
       "      <td>0</td>\n",
       "      <td>0</td>\n",
       "      <td>0</td>\n",
       "      <td>0</td>\n",
       "      <td>0</td>\n",
       "      <td>0</td>\n",
       "      <td>...</td>\n",
       "      <td>0</td>\n",
       "      <td>0</td>\n",
       "      <td>0</td>\n",
       "      <td>0</td>\n",
       "      <td>0</td>\n",
       "      <td>M</td>\n",
       "      <td>25</td>\n",
       "      <td>7</td>\n",
       "      <td>904</td>\n",
       "      <td>[1193, 3408, 3105, 2321, 527, 2762, 260, 2028,...</td>\n",
       "    </tr>\n",
       "    <tr>\n",
       "      <th>4</th>\n",
       "      <td>17</td>\n",
       "      <td>1193</td>\n",
       "      <td>5</td>\n",
       "      <td>8</td>\n",
       "      <td>0</td>\n",
       "      <td>0</td>\n",
       "      <td>0</td>\n",
       "      <td>0</td>\n",
       "      <td>0</td>\n",
       "      <td>0</td>\n",
       "      <td>...</td>\n",
       "      <td>0</td>\n",
       "      <td>0</td>\n",
       "      <td>0</td>\n",
       "      <td>0</td>\n",
       "      <td>0</td>\n",
       "      <td>M</td>\n",
       "      <td>50</td>\n",
       "      <td>1</td>\n",
       "      <td>3187</td>\n",
       "      <td>[1193, 595, 2321, 720, 1270, 527, 1097, 2762, ...</td>\n",
       "    </tr>\n",
       "    <tr>\n",
       "      <th>5</th>\n",
       "      <td>18</td>\n",
       "      <td>1193</td>\n",
       "      <td>4</td>\n",
       "      <td>8</td>\n",
       "      <td>0</td>\n",
       "      <td>0</td>\n",
       "      <td>0</td>\n",
       "      <td>0</td>\n",
       "      <td>0</td>\n",
       "      <td>0</td>\n",
       "      <td>...</td>\n",
       "      <td>0</td>\n",
       "      <td>0</td>\n",
       "      <td>0</td>\n",
       "      <td>0</td>\n",
       "      <td>0</td>\n",
       "      <td>F</td>\n",
       "      <td>18</td>\n",
       "      <td>3</td>\n",
       "      <td>3227</td>\n",
       "      <td>[1193, 1197, 919, 595, 2018, 2797, 527, 48, 10...</td>\n",
       "    </tr>\n",
       "  </tbody>\n",
       "</table>\n",
       "<p>5 rows × 29 columns</p>\n",
       "</div>"
      ],
      "text/plain": [
       "   user  movie  rating  monthes  genre_0  genre_1  genre_2  genre_3  genre_4  \\\n",
       "1     2   1193       5        8        0        0        0        0        0   \n",
       "2    12   1193       4        8        0        0        0        0        0   \n",
       "3    15   1193       4        8        0        0        0        0        0   \n",
       "4    17   1193       5        8        0        0        0        0        0   \n",
       "5    18   1193       4        8        0        0        0        0        0   \n",
       "\n",
       "   genre_5                        ...                          genre_15  \\\n",
       "1        0                        ...                                 0   \n",
       "2        0                        ...                                 0   \n",
       "3        0                        ...                                 0   \n",
       "4        0                        ...                                 0   \n",
       "5        0                        ...                                 0   \n",
       "\n",
       "   genre_16  genre_17  genre_18  genre_19  gender  age  occupation   zip  \\\n",
       "1         0         0         0         0       M   56          16  2248   \n",
       "2         0         0         0         0       M   25          12  1165   \n",
       "3         0         0         0         0       M   25           7   904   \n",
       "4         0         0         0         0       M   50           1  3187   \n",
       "5         0         0         0         0       F   18           3  3227   \n",
       "\n",
       "                                         ratedMovies  \n",
       "1  [1193, 3105, 2321, 1962, 1207, 2028, 1246, 306...  \n",
       "2  [1193, 2804, 1198, 593, 1247, 1641, 1221, 111,...  \n",
       "3  [1193, 3408, 3105, 2321, 527, 2762, 260, 2028,...  \n",
       "4  [1193, 595, 2321, 720, 1270, 527, 1097, 2762, ...  \n",
       "5  [1193, 1197, 919, 595, 2018, 2797, 527, 48, 10...  \n",
       "\n",
       "[5 rows x 29 columns]"
      ]
     },
     "execution_count": 43,
     "metadata": {},
     "output_type": "execute_result"
    }
   ],
   "source": [
    "users_len = train.user.append(test.user).nunique()#6040\n",
    "movies_len = train.movie.append(test.movie).nunique() #3952\n",
    "genre_len = len([col for col in train.columns if 'genre' in col])\n",
    "occupation_len = train.occupation.append(test.occupation).nunique()\n",
    "zip_len = train.zip.append(test.zip).nunique()\n",
    "train.head()"
   ]
  },
  {
   "cell_type": "code",
   "execution_count": 44,
   "metadata": {},
   "outputs": [],
   "source": [
    "from tqdm import tqdm\n",
    "\n",
    "def train2format(data, features_extractor, train_output='train', \n",
    "                 with_user_features=False, with_rated_films=False):\n",
    "    writer_train = open(train_output, 'w')\n",
    "    for row in tqdm(data.iterrows(), total=data.shape[0], miniters=1000):\n",
    "        label = str(int(row[1]['rating']))\n",
    "        features = features_extractor(row[1], with_user_features, with_rated_films)\n",
    "        output_line = '{0} {1}\\n'.format(label, features)\n",
    "        writer_train.write(output_line)            \n",
    "    writer_train.close()\n",
    "\n",
    "def test2format(data, features_extractor, x_test_output='test', y_test_output='ytest', \n",
    "                with_user_features=False, with_rated_films=False):\n",
    "    writer_test = open(x_test_output, 'w')\n",
    "    writer_ytest = open(y_test_output, 'w')\n",
    "    for row in tqdm(data.iterrows(), total=data.shape[0]):\n",
    "        label = str(int(row[1]['rating']))\n",
    "        features = features_extractor(row[1], with_user_features, with_rated_films)\n",
    "        \n",
    "        output_line = '{0} {1}\\n'.format(label, features)\n",
    "        writer_test.write(output_line)\n",
    "        writer_ytest.write('%s\\n' % label) \n",
    "    \n",
    "    writer_test.close()\n",
    "    writer_ytest.close()"
   ]
  },
  {
   "cell_type": "code",
   "execution_count": 50,
   "metadata": {},
   "outputs": [],
   "source": [
    "def fm_extractor(row, with_user_features=False, with_rated_films=False):\n",
    "    offset = 0\n",
    "    output_line = '{}:1 '.format(row['user'] + offset)\n",
    "    \n",
    "    offset += users_len\n",
    "    output_line += '{}:1 '.format(row['movie'] + offset)\n",
    "    \n",
    "    offset += movies_len\n",
    "    output_line += '{0}:{1} '.format(offset, row['monthes'])\n",
    "    offset += 1\n",
    "    \n",
    "    for genre_index in range(genre_len):\n",
    "        if row['genre_{}'.format(genre_index)] == 1:\n",
    "            output_line += '{0}:1 '.format(offset + genre_index)\n",
    "    offset += genre_len\n",
    "    \n",
    "    if with_user_features:\n",
    "        if row['gender']=='F':\n",
    "            output_line += '{}:1 '.format(offset)\n",
    "        output_line += '{0}:{1} '.format(offset + 1, row['age'])\n",
    "        offset += 2\n",
    "        output_line += '{}:1 '.format(row['occupation'] + offset)\n",
    "        offset += occupation_len\n",
    "        output_line += '{}:1'.format(row['zip'] + offset)\n",
    "    \n",
    "    if with_rated_films:\n",
    "        n_rated_movies = len(row['ratedMovies'])\n",
    "        for movie_id in row['ratedMovies']:\n",
    "            output_line += 'rated_{0}:{1:.3} '.format(movie_id + offset, 1 / n_rated_movies)\n",
    "        \n",
    "    return output_line\n",
    "\n",
    "def vw_extractor(row, with_user_features=False, with_rated_films=False):\n",
    "    output_line = '|ohe '\n",
    "    output_line += 'user_{} '.format(row['user'])\n",
    "    output_line += 'movie_{} '.format(row['movie'])\n",
    "    output_line += '|d {} '.format(row['monthes']) \n",
    "    \n",
    "    output_line += '|g '    \n",
    "    for genre_index in range(genre_len):\n",
    "        if row['genre_{}'.format(genre_index)] == 1:\n",
    "            output_line += 'genre_{0} '.format(genre_index)\n",
    "    \n",
    "    if with_user_features:\n",
    "        output_line += '|u '\n",
    "        if row['gender']=='F':\n",
    "            output_line += 'female '\n",
    "        output_line += 'age:{} '.format(row['age'])\n",
    "        output_line += 'occupation_{} '.format(row['occupation'])\n",
    "        output_line += 'zip_{}'.format(row['zip'])\n",
    "      \n",
    "    if with_rated_films:\n",
    "        output_line += ' |m '\n",
    "        # checking for float nan\n",
    "        if row['ratedMovies'] == row['ratedMovies']:\n",
    "            n_rated_movies = len(row['ratedMovies'])\n",
    "            for movie in row['ratedMovies']:\n",
    "                output_line += 'rated_{0}:{1:.3} '.format(movie, 1 / n_rated_movies)\n",
    "    return output_line"
   ]
  },
  {
   "cell_type": "code",
   "execution_count": 8,
   "metadata": {},
   "outputs": [
    {
     "name": "stderr",
     "output_type": "stream",
     "text": [
      "100%|██████████| 5/5 [00:00<00:00, 2449.37it/s]\n",
      "100%|██████████| 5/5 [00:00<00:00, 2321.66it/s]"
     ]
    },
    {
     "name": "stdout",
     "output_type": "stream",
     "text": [
      "vw format\n",
      "|ohe user_2 movie_1193 |d 8 |g genre_7 |u age:56 occupation_16 zip_70072\n",
      "|ohe user_12 movie_1193 |d 8 |g genre_7 |u age:25 occupation_12 zip_32793\n",
      "|ohe user_15 movie_1193 |d 8 |g genre_7 |u age:25 occupation_7 zip_22903\n",
      "|ohe user_17 movie_1193 |d 8 |g genre_7 |u age:50 occupation_1 zip_95350\n",
      "|ohe user_18 movie_1193 |d 8 |g genre_7 |u female age:18 occupation_3 zip_95825\n",
      "\n",
      "fm format\n",
      "2:1 7233:1 9746:8 9754:1 \n",
      "12:1 7233:1 9746:8 9754:1 \n",
      "15:1 7233:1 9746:8 9754:1 \n",
      "17:1 7233:1 9746:8 9754:1 \n",
      "18:1 7233:1 9746:8 9754:1 \n"
     ]
    },
    {
     "name": "stderr",
     "output_type": "stream",
     "text": [
      "\n"
     ]
    }
   ],
   "source": [
    "print('vw format')\n",
    "for row in tqdm(train.head().iterrows(), total=train.head().shape[0], miniters=1000):\n",
    "    print(vw_extractor(row[1], with_user_features=True))\n",
    "\n",
    "print('\\nfm format')\n",
    "for row in tqdm(train.head().iterrows(), total=train.head().shape[0], miniters=1000):\n",
    "    print(fm_extractor(row[1]))"
   ]
  },
  {
   "cell_type": "markdown",
   "metadata": {},
   "source": [
    "## Regression problem\n",
    "\n",
    "### VW"
   ]
  },
  {
   "cell_type": "code",
   "execution_count": 17,
   "metadata": {},
   "outputs": [
    {
     "name": "stderr",
     "output_type": "stream",
     "text": [
      "100%|██████████| 750157/750157 [03:33<00:00, 3516.14it/s]\n",
      "100%|██████████| 250052/250052 [01:16<00:00, 3266.77it/s]\n"
     ]
    }
   ],
   "source": [
    "train2format(train, vw_extractor, 'train_vw', with_user_features=True)\n",
    "test2format(test, vw_extractor, 'test_vw', with_user_features=True)"
   ]
  },
  {
   "cell_type": "code",
   "execution_count": 29,
   "metadata": {},
   "outputs": [
    {
     "name": "stdout",
     "output_type": "stream",
     "text": [
      "5 |ohe user_2 movie_1193 |d 8 |g genre_7 |u age:56 occupation_16 zip_70072\n",
      "4 |ohe user_12 movie_1193 |d 8 |g genre_7 |u age:25 occupation_12 zip_32793\n",
      "4 |ohe user_15 movie_1193 |d 8 |g genre_7 |u age:25 occupation_7 zip_22903\n"
     ]
    }
   ],
   "source": [
    "!head -n 3 train_vw"
   ]
  },
  {
   "cell_type": "code",
   "execution_count": 28,
   "metadata": {},
   "outputs": [
    {
     "name": "stdout",
     "output_type": "stream",
     "text": [
      "final_regressor = model\n",
      "Num weight bits = 14\n",
      "learning rate = 0.01\n",
      "initial_t = 1\n",
      "power_t = 0.5\n",
      "using cache_file = cache\n",
      "ignoring text input in favor of cache input\n",
      "num sources = 1\n",
      "average  since         example        example  current  current  current\n",
      "loss     last          counter         weight    label  predict features\n",
      "25.000000 25.000000            1            1.0   5.0000   0.0000        5\n",
      "19.408629 13.817259            2            2.0   4.0000   0.2828        5\n",
      "17.694937 15.981244            4            4.0   5.0000   0.5963        5\n",
      "15.274976 12.855016            8            8.0   5.0000   0.7870        5\n",
      "12.199007 9.123038           16           16.0   5.0000   1.5333        5\n",
      "9.601720 7.004432           32           32.0   4.0000   2.1662        5\n",
      "6.944009 4.286297           64           64.0   4.0000   2.8929        5\n",
      "4.554644 2.165280          128          128.0   4.0000   2.7970        5\n",
      "3.225699 1.896753          256          256.0   5.0000   4.1511        5\n",
      "2.020579 0.815459          512          512.0   5.0000   4.1026        5\n",
      "1.397562 0.774546         1024         1024.0   5.0000   4.2112        5\n",
      "1.772412 2.147262         2048         2048.0   5.0000   2.8951        6\n",
      "1.410030 1.047649         4096         4096.0   4.0000   3.4549        7\n",
      "1.195566 0.981102         8192         8192.0   4.0000   3.7504        7\n",
      "1.180501 1.165435        16384        16384.0   4.0000   3.3338        5\n",
      "1.207473 1.234445        32768        32768.0   5.0000   4.5126        5\n",
      "1.106357 1.005240        65536        65536.0   5.0000   3.3872        7\n",
      "1.092075 1.077794       131072       131072.0   4.0000   3.8359        5\n",
      "1.104775 1.117474       262144       262144.0   5.0000   3.2349        5\n",
      "1.144140 1.183506       524288       524288.0   3.0000   3.2618        6\n",
      "\n",
      "finished run\n",
      "number of examples = 750157\n",
      "weighted example sum = 750157.000000\n",
      "weighted label sum = 2686570.000000\n",
      "average loss = 1.183269\n",
      "best constant = 3.581344\n",
      "total feature number = 4708969\n"
     ]
    }
   ],
   "source": [
    "! vw -d train_vw --loss_function squared -f model --sgd --learning_rate 0.01 -b 14 --passes 1 --cache_file cache\n",
    "! vw -i model -t test_vw -r pred --quiet"
   ]
  },
  {
   "cell_type": "markdown",
   "metadata": {},
   "source": [
    "### FMs"
   ]
  },
  {
   "cell_type": "code",
   "execution_count": 52,
   "metadata": {},
   "outputs": [
    {
     "name": "stderr",
     "output_type": "stream",
     "text": [
      "100%|██████████| 750157/750157 [03:33<00:00, 3509.55it/s]\n",
      "100%|██████████| 250052/250052 [01:12<00:00, 3425.75it/s]\n"
     ]
    }
   ],
   "source": [
    "train2format(train, fm_extractor, 'train_fm', with_user_features=True)\n",
    "test2format(test, fm_extractor, 'test_fm', with_user_features=True)"
   ]
  },
  {
   "cell_type": "code",
   "execution_count": 56,
   "metadata": {},
   "outputs": [
    {
     "name": "stdout",
     "output_type": "stream",
     "text": [
      "5 2:1 7233:1 9746:8 9754:1 9768:56 9785:1 12038:1\n",
      "4 12:1 7233:1 9746:8 9754:1 9768:25 9781:1 10955:1\n",
      "4 15:1 7233:1 9746:8 9754:1 9768:25 9776:1 10694:1\n"
     ]
    }
   ],
   "source": [
    "!head -n 3 train_fm"
   ]
  },
  {
   "cell_type": "code",
   "execution_count": 57,
   "metadata": {},
   "outputs": [
    {
     "name": "stdout",
     "output_type": "stream",
     "text": [
      "750157 750157\n",
      "250052 250052\n",
      "2\n",
      "0 2.79311\n",
      "0 2.79525\n",
      "1 1.80567\n",
      "1 1.80812\n",
      "2 2.7844\n",
      "2 2.78769\n",
      "3 1.76325\n",
      "3 1.76661\n",
      "4 2.74408\n",
      "4 2.74905\n",
      "5 2.75097\n",
      "5 2.75473\n",
      "6 1.79351\n",
      "6 1.79794\n",
      "7 1.80538\n",
      "7 1.8092\n",
      "8 1.84171\n",
      "8 1.84945\n",
      "^C\n"
     ]
    }
   ],
   "source": [
    "!./FM -t train_fm -e test_fm -o out -s regression -l 0.1"
   ]
  },
  {
   "cell_type": "code",
   "execution_count": null,
   "metadata": {},
   "outputs": [],
   "source": []
  },
  {
   "cell_type": "code",
   "execution_count": null,
   "metadata": {},
   "outputs": [],
   "source": []
  },
  {
   "cell_type": "markdown",
   "metadata": {},
   "source": [
    "## Check old train"
   ]
  },
  {
   "cell_type": "code",
   "execution_count": 31,
   "metadata": {},
   "outputs": [
    {
     "name": "stdout",
     "output_type": "stream",
     "text": [
      "5 5245:1 8280:1 9994:1 12183:1 13462:1 \n",
      "4 4260:1 8253:1 9994:3 10000:1 10361:1 13455:1 13456:1 13459:1 13470:1 \n",
      "2 481:1 7245:1 9993:1 9994:2 10008:1 11893:1 13459:1 \n"
     ]
    }
   ],
   "source": [
    "!head -n 3 ../veryownFM/data/train.svmlite"
   ]
  },
  {
   "cell_type": "code",
   "execution_count": 59,
   "metadata": {},
   "outputs": [
    {
     "name": "stdout",
     "output_type": "stream",
     "text": [
      "750156 750156\n",
      "250053 250053\n",
      "2\n",
      "0 0.967365\n",
      "0 0.981407\n",
      "1 0.966545\n",
      "1 0.981351\n",
      "2 0.966431\n",
      "2 0.981534\n",
      "3 0.966404\n",
      "3 0.981657\n",
      "^C\n"
     ]
    }
   ],
   "source": [
    "!./FM -t ../veryownFM/data/train.svmlite -e ../veryownFM/data/test.svmlite -o out -s regression -l 0.02"
   ]
  },
  {
   "cell_type": "code",
   "execution_count": null,
   "metadata": {},
   "outputs": [],
   "source": []
  }
 ],
 "metadata": {
  "kernelspec": {
   "display_name": "Python 3",
   "language": "python",
   "name": "python3"
  },
  "language_info": {
   "codemirror_mode": {
    "name": "ipython",
    "version": 3
   },
   "file_extension": ".py",
   "mimetype": "text/x-python",
   "name": "python",
   "nbconvert_exporter": "python",
   "pygments_lexer": "ipython3",
   "version": "3.6.4"
  }
 },
 "nbformat": 4,
 "nbformat_minor": 2
}
