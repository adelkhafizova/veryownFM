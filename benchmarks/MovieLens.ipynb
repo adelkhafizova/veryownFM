{
 "cells": [
  {
   "cell_type": "code",
   "execution_count": 1,
   "metadata": {},
   "outputs": [],
   "source": [
    "import numpy as np\n",
    "import pandas as pd\n",
    "\n",
    "import gc\n",
    "import os\n",
    "\n",
    "from tqdm import tqdm_notebook, tqdm\n",
    "import time\n",
    "\n",
    "from sklearn.preprocessing import OneHotEncoder\n",
    "from sklearn.feature_extraction.text import CountVectorizer\n",
    "from sklearn.metrics import roc_auc_score, mean_squared_error\n",
    "\n",
    "import matplotlib.pylab as plt\n",
    "%matplotlib inline\n",
    "\n",
    "from Helpers import *"
   ]
  },
  {
   "cell_type": "markdown",
   "metadata": {},
   "source": [
    "# Бенчмарки\n",
    "В данной работе проводится сравнение работы Vowpall Wabbit и нашей FM на основе датасета MovieLens\n",
    "Будут проверены следующие модификации:\n",
    "- **movielens - 1m**  с нормализацией признаков\n",
    "- **movielens - 1m**  без нормализации признаков\n",
    "- **movielens - 10m** без нормализации признаков\n",
    "- **movielens - 10m** как задача классификации\n",
    "- **movielens - 20m** без нормализации признаков\n",
    "\n",
    "\n",
    "# Preprocessing\n",
    "### Предподготовка датасета в pandas\n",
    "\n",
    "**Основные паки признаков:**\n",
    "- OHE юзеров и фильмов\n",
    "- Время (число месяцев, прошедшее от первой записи)\n",
    "- OHE жанров фильмов\n",
    "- Признаки пользователей (только для ml-1m)\n",
    "- Факт оценивания фильма (OHE)\n",
    "\n",
    "# Спойлер\n",
    "*Здесь будет выжимка результатов лучших алгоритмов*\n",
    "\n",
    "Отмечу, что некоторые модификации пропускались, если не вышло получить на них внятного хорошего результата"
   ]
  },
  {
   "cell_type": "code",
   "execution_count": 30,
   "metadata": {},
   "outputs": [
    {
     "data": {
      "text/html": [
       "<div>\n",
       "<style scoped>\n",
       "    .dataframe tbody tr th:only-of-type {\n",
       "        vertical-align: middle;\n",
       "    }\n",
       "\n",
       "    .dataframe tbody tr th {\n",
       "        vertical-align: top;\n",
       "    }\n",
       "\n",
       "    .dataframe thead th {\n",
       "        text-align: right;\n",
       "    }\n",
       "</style>\n",
       "<table border=\"1\" class=\"dataframe\">\n",
       "  <thead>\n",
       "    <tr style=\"text-align: right;\">\n",
       "      <th></th>\n",
       "      <th>Dataset</th>\n",
       "      <th>Model</th>\n",
       "      <th>RMSE</th>\n",
       "      <th>Time (sec)</th>\n",
       "    </tr>\n",
       "  </thead>\n",
       "  <tbody>\n",
       "    <tr>\n",
       "      <th>0</th>\n",
       "      <td>ml-1m-norm</td>\n",
       "      <td>FM – SGD (5 passes)</td>\n",
       "      <td>1.186</td>\n",
       "      <td>121</td>\n",
       "    </tr>\n",
       "    <tr>\n",
       "      <th>1</th>\n",
       "      <td>ml-1m-norm</td>\n",
       "      <td>Pairwise FM – SGD (5 passes)</td>\n",
       "      <td>1.186</td>\n",
       "      <td>255</td>\n",
       "    </tr>\n",
       "    <tr>\n",
       "      <th>2</th>\n",
       "      <td>ml-1m-norm</td>\n",
       "      <td>FM – ALS (5 passes)</td>\n",
       "      <td>0.911</td>\n",
       "      <td>165</td>\n",
       "    </tr>\n",
       "    <tr>\n",
       "      <th>3</th>\n",
       "      <td>ml-1m-norm</td>\n",
       "      <td>Pairwise FM – ALS (5 passes)</td>\n",
       "      <td>0.912</td>\n",
       "      <td>859</td>\n",
       "    </tr>\n",
       "    <tr>\n",
       "      <th>4</th>\n",
       "      <td>ml-1m-norm</td>\n",
       "      <td>VW SGD (10 passes)</td>\n",
       "      <td>1.149</td>\n",
       "      <td>10</td>\n",
       "    </tr>\n",
       "    <tr>\n",
       "      <th>5</th>\n",
       "      <td>ml-1m-norm</td>\n",
       "      <td>VW SGD (80 passes)</td>\n",
       "      <td>1.122</td>\n",
       "      <td>62</td>\n",
       "    </tr>\n",
       "    <tr>\n",
       "      <th>6</th>\n",
       "      <td>ml-1m-norm</td>\n",
       "      <td>VW (5 passes)</td>\n",
       "      <td>1.068</td>\n",
       "      <td>6</td>\n",
       "    </tr>\n",
       "    <tr>\n",
       "      <th>7</th>\n",
       "      <td>ml-1m-norm</td>\n",
       "      <td>VW (80 passes)</td>\n",
       "      <td>0.944</td>\n",
       "      <td>72</td>\n",
       "    </tr>\n",
       "    <tr>\n",
       "      <th>8</th>\n",
       "      <td>ml-1m</td>\n",
       "      <td>FM – SGD (5 passes)</td>\n",
       "      <td>1.006</td>\n",
       "      <td>113</td>\n",
       "    </tr>\n",
       "    <tr>\n",
       "      <th>9</th>\n",
       "      <td>ml-1m</td>\n",
       "      <td>Pairwise FM – SGD (5 passes)</td>\n",
       "      <td>1.020</td>\n",
       "      <td>214</td>\n",
       "    </tr>\n",
       "    <tr>\n",
       "      <th>10</th>\n",
       "      <td>ml-1m</td>\n",
       "      <td>FM – SGD (10 passes)</td>\n",
       "      <td>1.029</td>\n",
       "      <td>230</td>\n",
       "    </tr>\n",
       "    <tr>\n",
       "      <th>11</th>\n",
       "      <td>ml-1m</td>\n",
       "      <td>Pairwise FM – SGD (10 passes)</td>\n",
       "      <td>0.997</td>\n",
       "      <td>389</td>\n",
       "    </tr>\n",
       "    <tr>\n",
       "      <th>12</th>\n",
       "      <td>ml-1m</td>\n",
       "      <td>FM – ALS (2 passes)</td>\n",
       "      <td>0.911</td>\n",
       "      <td>75</td>\n",
       "    </tr>\n",
       "    <tr>\n",
       "      <th>13</th>\n",
       "      <td>ml-1m</td>\n",
       "      <td>Pairwise FM – ALS (5 passes)</td>\n",
       "      <td>0.889</td>\n",
       "      <td>781</td>\n",
       "    </tr>\n",
       "    <tr>\n",
       "      <th>14</th>\n",
       "      <td>ml-1m</td>\n",
       "      <td>VW SGD (10 passes)</td>\n",
       "      <td>1.139</td>\n",
       "      <td>10</td>\n",
       "    </tr>\n",
       "    <tr>\n",
       "      <th>15</th>\n",
       "      <td>ml-1m</td>\n",
       "      <td>VW SGD (80 passes)</td>\n",
       "      <td>1.115</td>\n",
       "      <td>71</td>\n",
       "    </tr>\n",
       "    <tr>\n",
       "      <th>16</th>\n",
       "      <td>ml-10m</td>\n",
       "      <td>FM – SGD (5 passes)</td>\n",
       "      <td>1.051</td>\n",
       "      <td>719</td>\n",
       "    </tr>\n",
       "    <tr>\n",
       "      <th>17</th>\n",
       "      <td>ml-10m</td>\n",
       "      <td>Pairwise FM – SGD (5 passes)</td>\n",
       "      <td>1.056</td>\n",
       "      <td>1147</td>\n",
       "    </tr>\n",
       "    <tr>\n",
       "      <th>18</th>\n",
       "      <td>ml-10m</td>\n",
       "      <td>FM – ALS (5 passes, HT)</td>\n",
       "      <td>0.948</td>\n",
       "      <td>780</td>\n",
       "    </tr>\n",
       "    <tr>\n",
       "      <th>19</th>\n",
       "      <td>ml-10m</td>\n",
       "      <td>FM – ALS (10 passes, HT)</td>\n",
       "      <td>0.945</td>\n",
       "      <td>1497</td>\n",
       "    </tr>\n",
       "    <tr>\n",
       "      <th>20</th>\n",
       "      <td>ml-10m</td>\n",
       "      <td>FM – ALS (5 passes)</td>\n",
       "      <td>0.889</td>\n",
       "      <td>867</td>\n",
       "    </tr>\n",
       "    <tr>\n",
       "      <th>21</th>\n",
       "      <td>ml-10m</td>\n",
       "      <td>Pairwise FM – ALS (5 passes, HT)</td>\n",
       "      <td>0.919</td>\n",
       "      <td>4485</td>\n",
       "    </tr>\n",
       "    <tr>\n",
       "      <th>22</th>\n",
       "      <td>ml-10m</td>\n",
       "      <td>Pairwise FM – ALS (5 passes)</td>\n",
       "      <td>0.852</td>\n",
       "      <td>3380</td>\n",
       "    </tr>\n",
       "    <tr>\n",
       "      <th>23</th>\n",
       "      <td>ml-10m</td>\n",
       "      <td>VW SGD (10 passes)</td>\n",
       "      <td>1.073</td>\n",
       "      <td>103</td>\n",
       "    </tr>\n",
       "    <tr>\n",
       "      <th>24</th>\n",
       "      <td>ml-10m</td>\n",
       "      <td>VW (5 passes)</td>\n",
       "      <td>0.987</td>\n",
       "      <td>71</td>\n",
       "    </tr>\n",
       "    <tr>\n",
       "      <th>25</th>\n",
       "      <td>ml-10m</td>\n",
       "      <td>VW (10 passes)</td>\n",
       "      <td>0.959</td>\n",
       "      <td>107</td>\n",
       "    </tr>\n",
       "    <tr>\n",
       "      <th>26</th>\n",
       "      <td>ml-10m</td>\n",
       "      <td>VW (80 passes)</td>\n",
       "      <td>0.909</td>\n",
       "      <td>728</td>\n",
       "    </tr>\n",
       "    <tr>\n",
       "      <th>27</th>\n",
       "      <td>ml-20m</td>\n",
       "      <td>FM – SGD (5 passes)</td>\n",
       "      <td>1.012</td>\n",
       "      <td>1459</td>\n",
       "    </tr>\n",
       "    <tr>\n",
       "      <th>28</th>\n",
       "      <td>ml-20m</td>\n",
       "      <td>Pairwise FM – SGD (5 passes)</td>\n",
       "      <td>1.005</td>\n",
       "      <td>2324</td>\n",
       "    </tr>\n",
       "    <tr>\n",
       "      <th>29</th>\n",
       "      <td>ml-20m</td>\n",
       "      <td>FM – ALS (1 passes, HT)</td>\n",
       "      <td>0.937</td>\n",
       "      <td>17246</td>\n",
       "    </tr>\n",
       "    <tr>\n",
       "      <th>30</th>\n",
       "      <td>ml-20m</td>\n",
       "      <td>VW (5 passes)</td>\n",
       "      <td>0.899</td>\n",
       "      <td>147</td>\n",
       "    </tr>\n",
       "    <tr>\n",
       "      <th>31</th>\n",
       "      <td>ml-20m</td>\n",
       "      <td>VW (10 passes)</td>\n",
       "      <td>0.880</td>\n",
       "      <td>227</td>\n",
       "    </tr>\n",
       "    <tr>\n",
       "      <th>32</th>\n",
       "      <td>ml-20m</td>\n",
       "      <td>VW (80 passes)</td>\n",
       "      <td>0.861</td>\n",
       "      <td>932</td>\n",
       "    </tr>\n",
       "  </tbody>\n",
       "</table>\n",
       "</div>"
      ],
      "text/plain": [
       "       Dataset                             Model   RMSE  Time (sec)\n",
       "0   ml-1m-norm               FM – SGD (5 passes)  1.186         121\n",
       "1   ml-1m-norm      Pairwise FM – SGD (5 passes)  1.186         255\n",
       "2   ml-1m-norm               FM – ALS (5 passes)  0.911         165\n",
       "3   ml-1m-norm      Pairwise FM – ALS (5 passes)  0.912         859\n",
       "4   ml-1m-norm                VW SGD (10 passes)  1.149          10\n",
       "5   ml-1m-norm                VW SGD (80 passes)  1.122          62\n",
       "6   ml-1m-norm                     VW (5 passes)  1.068           6\n",
       "7   ml-1m-norm                    VW (80 passes)  0.944          72\n",
       "8        ml-1m               FM – SGD (5 passes)  1.006         113\n",
       "9        ml-1m      Pairwise FM – SGD (5 passes)  1.020         214\n",
       "10       ml-1m              FM – SGD (10 passes)  1.029         230\n",
       "11       ml-1m     Pairwise FM – SGD (10 passes)  0.997         389\n",
       "12       ml-1m               FM – ALS (2 passes)  0.911          75\n",
       "13       ml-1m      Pairwise FM – ALS (5 passes)  0.889         781\n",
       "14       ml-1m                VW SGD (10 passes)  1.139          10\n",
       "15       ml-1m                VW SGD (80 passes)  1.115          71\n",
       "16      ml-10m               FM – SGD (5 passes)  1.051         719\n",
       "17      ml-10m      Pairwise FM – SGD (5 passes)  1.056        1147\n",
       "18      ml-10m           FM – ALS (5 passes, HT)  0.948         780\n",
       "19      ml-10m          FM – ALS (10 passes, HT)  0.945        1497\n",
       "20      ml-10m               FM – ALS (5 passes)  0.889         867\n",
       "21      ml-10m  Pairwise FM – ALS (5 passes, HT)  0.919        4485\n",
       "22      ml-10m      Pairwise FM – ALS (5 passes)  0.852        3380\n",
       "23      ml-10m                VW SGD (10 passes)  1.073         103\n",
       "24      ml-10m                     VW (5 passes)  0.987          71\n",
       "25      ml-10m                    VW (10 passes)  0.959         107\n",
       "26      ml-10m                    VW (80 passes)  0.909         728\n",
       "27      ml-20m               FM – SGD (5 passes)  1.012        1459\n",
       "28      ml-20m      Pairwise FM – SGD (5 passes)  1.005        2324\n",
       "29      ml-20m           FM – ALS (1 passes, HT)  0.937       17246\n",
       "30      ml-20m                     VW (5 passes)  0.899         147\n",
       "31      ml-20m                    VW (10 passes)  0.880         227\n",
       "32      ml-20m                    VW (80 passes)  0.861         932"
      ]
     },
     "execution_count": 30,
     "metadata": {},
     "output_type": "execute_result"
    }
   ],
   "source": [
    "best_models = pd.read_csv('best_models.csv').dropna()\n",
    "best_models"
   ]
  },
  {
   "cell_type": "code",
   "execution_count": 31,
   "metadata": {},
   "outputs": [
    {
     "data": {
      "text/html": [
       "<div>\n",
       "<style scoped>\n",
       "    .dataframe tbody tr th:only-of-type {\n",
       "        vertical-align: middle;\n",
       "    }\n",
       "\n",
       "    .dataframe tbody tr th {\n",
       "        vertical-align: top;\n",
       "    }\n",
       "\n",
       "    .dataframe thead th {\n",
       "        text-align: right;\n",
       "    }\n",
       "</style>\n",
       "<table border=\"1\" class=\"dataframe\">\n",
       "  <thead>\n",
       "    <tr style=\"text-align: right;\">\n",
       "      <th>Dataset</th>\n",
       "      <th>ml-10m</th>\n",
       "      <th>ml-1m</th>\n",
       "      <th>ml-1m-norm</th>\n",
       "      <th>ml-20m</th>\n",
       "    </tr>\n",
       "    <tr>\n",
       "      <th>Model</th>\n",
       "      <th></th>\n",
       "      <th></th>\n",
       "      <th></th>\n",
       "      <th></th>\n",
       "    </tr>\n",
       "  </thead>\n",
       "  <tbody>\n",
       "    <tr>\n",
       "      <th>FM – ALS (1 passes, HT)</th>\n",
       "      <td>NaN</td>\n",
       "      <td>NaN</td>\n",
       "      <td>NaN</td>\n",
       "      <td>0.937</td>\n",
       "    </tr>\n",
       "    <tr>\n",
       "      <th>FM – ALS (10 passes, HT)</th>\n",
       "      <td>0.945</td>\n",
       "      <td>NaN</td>\n",
       "      <td>NaN</td>\n",
       "      <td>NaN</td>\n",
       "    </tr>\n",
       "    <tr>\n",
       "      <th>FM – ALS (2 passes)</th>\n",
       "      <td>NaN</td>\n",
       "      <td>0.911</td>\n",
       "      <td>NaN</td>\n",
       "      <td>NaN</td>\n",
       "    </tr>\n",
       "    <tr>\n",
       "      <th>FM – ALS (5 passes)</th>\n",
       "      <td>0.889</td>\n",
       "      <td>NaN</td>\n",
       "      <td>0.911</td>\n",
       "      <td>NaN</td>\n",
       "    </tr>\n",
       "    <tr>\n",
       "      <th>FM – ALS (5 passes, HT)</th>\n",
       "      <td>0.948</td>\n",
       "      <td>NaN</td>\n",
       "      <td>NaN</td>\n",
       "      <td>NaN</td>\n",
       "    </tr>\n",
       "    <tr>\n",
       "      <th>FM – SGD (10 passes)</th>\n",
       "      <td>NaN</td>\n",
       "      <td>1.029</td>\n",
       "      <td>NaN</td>\n",
       "      <td>NaN</td>\n",
       "    </tr>\n",
       "    <tr>\n",
       "      <th>FM – SGD (5 passes)</th>\n",
       "      <td>1.051</td>\n",
       "      <td>1.006</td>\n",
       "      <td>1.186</td>\n",
       "      <td>1.012</td>\n",
       "    </tr>\n",
       "    <tr>\n",
       "      <th>Pairwise FM – ALS (5 passes)</th>\n",
       "      <td>0.852</td>\n",
       "      <td>0.889</td>\n",
       "      <td>0.912</td>\n",
       "      <td>NaN</td>\n",
       "    </tr>\n",
       "    <tr>\n",
       "      <th>Pairwise FM – ALS (5 passes, HT)</th>\n",
       "      <td>0.919</td>\n",
       "      <td>NaN</td>\n",
       "      <td>NaN</td>\n",
       "      <td>NaN</td>\n",
       "    </tr>\n",
       "    <tr>\n",
       "      <th>Pairwise FM – SGD (10 passes)</th>\n",
       "      <td>NaN</td>\n",
       "      <td>0.997</td>\n",
       "      <td>NaN</td>\n",
       "      <td>NaN</td>\n",
       "    </tr>\n",
       "    <tr>\n",
       "      <th>Pairwise FM – SGD (5 passes)</th>\n",
       "      <td>1.056</td>\n",
       "      <td>1.020</td>\n",
       "      <td>1.186</td>\n",
       "      <td>1.005</td>\n",
       "    </tr>\n",
       "    <tr>\n",
       "      <th>VW (10 passes)</th>\n",
       "      <td>0.959</td>\n",
       "      <td>NaN</td>\n",
       "      <td>NaN</td>\n",
       "      <td>0.880</td>\n",
       "    </tr>\n",
       "    <tr>\n",
       "      <th>VW (5 passes)</th>\n",
       "      <td>0.987</td>\n",
       "      <td>NaN</td>\n",
       "      <td>1.068</td>\n",
       "      <td>0.899</td>\n",
       "    </tr>\n",
       "    <tr>\n",
       "      <th>VW (80 passes)</th>\n",
       "      <td>0.909</td>\n",
       "      <td>NaN</td>\n",
       "      <td>0.944</td>\n",
       "      <td>0.861</td>\n",
       "    </tr>\n",
       "    <tr>\n",
       "      <th>VW SGD (10 passes)</th>\n",
       "      <td>1.073</td>\n",
       "      <td>1.139</td>\n",
       "      <td>1.149</td>\n",
       "      <td>NaN</td>\n",
       "    </tr>\n",
       "    <tr>\n",
       "      <th>VW SGD (80 passes)</th>\n",
       "      <td>NaN</td>\n",
       "      <td>1.115</td>\n",
       "      <td>1.122</td>\n",
       "      <td>NaN</td>\n",
       "    </tr>\n",
       "  </tbody>\n",
       "</table>\n",
       "</div>"
      ],
      "text/plain": [
       "Dataset                           ml-10m  ml-1m  ml-1m-norm  ml-20m\n",
       "Model                                                              \n",
       "FM – ALS (1 passes, HT)              NaN    NaN         NaN   0.937\n",
       "FM – ALS (10 passes, HT)           0.945    NaN         NaN     NaN\n",
       "FM – ALS (2 passes)                  NaN  0.911         NaN     NaN\n",
       "FM – ALS (5 passes)                0.889    NaN       0.911     NaN\n",
       "FM – ALS (5 passes, HT)            0.948    NaN         NaN     NaN\n",
       "FM – SGD (10 passes)                 NaN  1.029         NaN     NaN\n",
       "FM – SGD (5 passes)                1.051  1.006       1.186   1.012\n",
       "Pairwise FM – ALS (5 passes)       0.852  0.889       0.912     NaN\n",
       "Pairwise FM – ALS (5 passes, HT)   0.919    NaN         NaN     NaN\n",
       "Pairwise FM – SGD (10 passes)        NaN  0.997         NaN     NaN\n",
       "Pairwise FM – SGD (5 passes)       1.056  1.020       1.186   1.005\n",
       "VW (10 passes)                     0.959    NaN         NaN   0.880\n",
       "VW (5 passes)                      0.987    NaN       1.068   0.899\n",
       "VW (80 passes)                     0.909    NaN       0.944   0.861\n",
       "VW SGD (10 passes)                 1.073  1.139       1.149     NaN\n",
       "VW SGD (80 passes)                   NaN  1.115       1.122     NaN"
      ]
     },
     "execution_count": 31,
     "metadata": {},
     "output_type": "execute_result"
    }
   ],
   "source": [
    "pd.pivot_table(best_models, values='RMSE', index='Model', columns='Dataset')"
   ]
  },
  {
   "cell_type": "markdown",
   "metadata": {},
   "source": [
    "# Regression\n",
    "\n",
    "Попробуем для начала на датасете ml-1m, используя нормализацию и все полученные фичи, кроме ratedMovies\n",
    "\n",
    "Чуть позже же решим, делает ли нам нормализация категориальных признаков хорошо или нет"
   ]
  },
  {
   "cell_type": "code",
   "execution_count": 8,
   "metadata": {},
   "outputs": [
    {
     "name": "stdout",
     "output_type": "stream",
     "text": [
      "load ratings....\n",
      "calculation of monthes....\n",
      "load movies....\n",
      "build genres ohe....\n",
      "join dataframes....\n",
      "load users info....\n",
      "train/test split...\n",
      "building rated movies history (on train)....\n",
      "preprocessing done....\n"
     ]
    },
    {
     "data": {
      "text/html": [
       "<div>\n",
       "<style scoped>\n",
       "    .dataframe tbody tr th:only-of-type {\n",
       "        vertical-align: middle;\n",
       "    }\n",
       "\n",
       "    .dataframe tbody tr th {\n",
       "        vertical-align: top;\n",
       "    }\n",
       "\n",
       "    .dataframe thead th {\n",
       "        text-align: right;\n",
       "    }\n",
       "</style>\n",
       "<table border=\"1\" class=\"dataframe\">\n",
       "  <thead>\n",
       "    <tr style=\"text-align: right;\">\n",
       "      <th></th>\n",
       "      <th>user</th>\n",
       "      <th>movie</th>\n",
       "      <th>rating</th>\n",
       "      <th>monthes</th>\n",
       "      <th>genre_0</th>\n",
       "      <th>genre_1</th>\n",
       "      <th>genre_2</th>\n",
       "      <th>genre_3</th>\n",
       "      <th>genre_4</th>\n",
       "      <th>genre_5</th>\n",
       "      <th>...</th>\n",
       "      <th>genre_15</th>\n",
       "      <th>genre_16</th>\n",
       "      <th>genre_17</th>\n",
       "      <th>genre_18</th>\n",
       "      <th>genre_19</th>\n",
       "      <th>gender</th>\n",
       "      <th>age</th>\n",
       "      <th>occupation</th>\n",
       "      <th>zip</th>\n",
       "      <th>ratedMovies</th>\n",
       "    </tr>\n",
       "  </thead>\n",
       "  <tbody>\n",
       "    <tr>\n",
       "      <th>1</th>\n",
       "      <td>2</td>\n",
       "      <td>1193</td>\n",
       "      <td>5</td>\n",
       "      <td>0.216187</td>\n",
       "      <td>0</td>\n",
       "      <td>0</td>\n",
       "      <td>0</td>\n",
       "      <td>0</td>\n",
       "      <td>0</td>\n",
       "      <td>0</td>\n",
       "      <td>...</td>\n",
       "      <td>0</td>\n",
       "      <td>0</td>\n",
       "      <td>0</td>\n",
       "      <td>0</td>\n",
       "      <td>0</td>\n",
       "      <td>1</td>\n",
       "      <td>1.000000</td>\n",
       "      <td>16</td>\n",
       "      <td>2248</td>\n",
       "      <td>[1193, 3105, 2321, 1962, 1207, 2028, 1246, 306...</td>\n",
       "    </tr>\n",
       "    <tr>\n",
       "      <th>2</th>\n",
       "      <td>12</td>\n",
       "      <td>1193</td>\n",
       "      <td>4</td>\n",
       "      <td>0.216187</td>\n",
       "      <td>0</td>\n",
       "      <td>0</td>\n",
       "      <td>0</td>\n",
       "      <td>0</td>\n",
       "      <td>0</td>\n",
       "      <td>0</td>\n",
       "      <td>...</td>\n",
       "      <td>0</td>\n",
       "      <td>0</td>\n",
       "      <td>0</td>\n",
       "      <td>0</td>\n",
       "      <td>0</td>\n",
       "      <td>1</td>\n",
       "      <td>0.446533</td>\n",
       "      <td>12</td>\n",
       "      <td>1165</td>\n",
       "      <td>[1193, 2804, 1198, 593, 1247, 1641, 1221, 111,...</td>\n",
       "    </tr>\n",
       "    <tr>\n",
       "      <th>3</th>\n",
       "      <td>15</td>\n",
       "      <td>1193</td>\n",
       "      <td>4</td>\n",
       "      <td>0.216187</td>\n",
       "      <td>0</td>\n",
       "      <td>0</td>\n",
       "      <td>0</td>\n",
       "      <td>0</td>\n",
       "      <td>0</td>\n",
       "      <td>0</td>\n",
       "      <td>...</td>\n",
       "      <td>0</td>\n",
       "      <td>0</td>\n",
       "      <td>0</td>\n",
       "      <td>0</td>\n",
       "      <td>0</td>\n",
       "      <td>1</td>\n",
       "      <td>0.446533</td>\n",
       "      <td>7</td>\n",
       "      <td>904</td>\n",
       "      <td>[1193, 3408, 3105, 2321, 527, 2762, 260, 2028,...</td>\n",
       "    </tr>\n",
       "    <tr>\n",
       "      <th>4</th>\n",
       "      <td>17</td>\n",
       "      <td>1193</td>\n",
       "      <td>5</td>\n",
       "      <td>0.216187</td>\n",
       "      <td>0</td>\n",
       "      <td>0</td>\n",
       "      <td>0</td>\n",
       "      <td>0</td>\n",
       "      <td>0</td>\n",
       "      <td>0</td>\n",
       "      <td>...</td>\n",
       "      <td>0</td>\n",
       "      <td>0</td>\n",
       "      <td>0</td>\n",
       "      <td>0</td>\n",
       "      <td>0</td>\n",
       "      <td>1</td>\n",
       "      <td>0.893066</td>\n",
       "      <td>1</td>\n",
       "      <td>3187</td>\n",
       "      <td>[1193, 595, 2321, 720, 1270, 527, 1097, 2762, ...</td>\n",
       "    </tr>\n",
       "    <tr>\n",
       "      <th>5</th>\n",
       "      <td>18</td>\n",
       "      <td>1193</td>\n",
       "      <td>4</td>\n",
       "      <td>0.216187</td>\n",
       "      <td>0</td>\n",
       "      <td>0</td>\n",
       "      <td>0</td>\n",
       "      <td>0</td>\n",
       "      <td>0</td>\n",
       "      <td>0</td>\n",
       "      <td>...</td>\n",
       "      <td>0</td>\n",
       "      <td>0</td>\n",
       "      <td>0</td>\n",
       "      <td>0</td>\n",
       "      <td>0</td>\n",
       "      <td>0</td>\n",
       "      <td>0.321533</td>\n",
       "      <td>3</td>\n",
       "      <td>3227</td>\n",
       "      <td>[1193, 1197, 919, 595, 2018, 2797, 527, 48, 10...</td>\n",
       "    </tr>\n",
       "  </tbody>\n",
       "</table>\n",
       "<p>5 rows × 29 columns</p>\n",
       "</div>"
      ],
      "text/plain": [
       "   user  movie  rating   monthes  genre_0  genre_1  genre_2  genre_3  genre_4  \\\n",
       "1     2   1193       5  0.216187        0        0        0        0        0   \n",
       "2    12   1193       4  0.216187        0        0        0        0        0   \n",
       "3    15   1193       4  0.216187        0        0        0        0        0   \n",
       "4    17   1193       5  0.216187        0        0        0        0        0   \n",
       "5    18   1193       4  0.216187        0        0        0        0        0   \n",
       "\n",
       "   genre_5                        ...                          genre_15  \\\n",
       "1        0                        ...                                 0   \n",
       "2        0                        ...                                 0   \n",
       "3        0                        ...                                 0   \n",
       "4        0                        ...                                 0   \n",
       "5        0                        ...                                 0   \n",
       "\n",
       "   genre_16  genre_17  genre_18  genre_19  gender       age  occupation   zip  \\\n",
       "1         0         0         0         0       1  1.000000          16  2248   \n",
       "2         0         0         0         0       1  0.446533          12  1165   \n",
       "3         0         0         0         0       1  0.446533           7   904   \n",
       "4         0         0         0         0       1  0.893066           1  3187   \n",
       "5         0         0         0         0       0  0.321533           3  3227   \n",
       "\n",
       "                                         ratedMovies  \n",
       "1  [1193, 3105, 2321, 1962, 1207, 2028, 1246, 306...  \n",
       "2  [1193, 2804, 1198, 593, 1247, 1641, 1221, 111,...  \n",
       "3  [1193, 3408, 3105, 2321, 527, 2762, 260, 2028,...  \n",
       "4  [1193, 595, 2321, 720, 1270, 527, 1097, 2762, ...  \n",
       "5  [1193, 1197, 919, 595, 2018, 2797, 527, 48, 10...  \n",
       "\n",
       "[5 rows x 29 columns]"
      ]
     },
     "execution_count": 8,
     "metadata": {},
     "output_type": "execute_result"
    }
   ],
   "source": [
    "folder = 'SourceData/ml-1m/'\n",
    "test_size = 0.25\n",
    "train, test = build_movielens(folder, test_size)\n",
    "field_info = get_offset_stats(train, test)\n",
    "train.head()"
   ]
  },
  {
   "cell_type": "code",
   "execution_count": 8,
   "metadata": {},
   "outputs": [
    {
     "name": "stderr",
     "output_type": "stream",
     "text": [
      "100%|██████████| 750157/750157 [07:11<00:00, 1738.67it/s]\n",
      "100%|██████████| 250052/250052 [02:41<00:00, 1551.64it/s]\n"
     ]
    }
   ],
   "source": [
    "train2format(train, fm_extractor, field_info, 'Generated/train_1m_norm_user_reg.fm',\n",
    "             with_normalization=True, with_user_features=True)\n",
    "test2format(test, fm_extractor, field_info, 'Generated/test_1m_norm_user_reg.fm', 'Generated/ytest_1m_norm_user_reg', \n",
    "            with_normalization=True, with_user_features=True)"
   ]
  },
  {
   "cell_type": "markdown",
   "metadata": {},
   "source": [
    "### Для начала посмотрим, как же пользоваться этой нашей тулзой"
   ]
  },
  {
   "cell_type": "code",
   "execution_count": 51,
   "metadata": {},
   "outputs": [
    {
     "name": "stdout",
     "output_type": "stream",
     "text": [
      "Library for using factorization algorithm\n",
      "Usage:\n",
      "  Factorization machines [OPTION...]\n",
      "\n",
      "  -l, --learning_rate arg       Learning rate value, default 0.1\n",
      "      --bias                    Use bias or not\n",
      "      --linear                  Use linear or not\n",
      "      --pairwise arg            Two-way interactions order\n",
      "  -r, --regularization_const arg\n",
      "                                Regularization constant, default 0\n",
      "  -i, --iterations arg          Number of iterations, default 100\n",
      "  -m, --learning_method arg     Learning method (SGD, ALS), default SGD\n",
      "  -g, --inplace arg             Storage (inplace, memory), default memory\n",
      "  -t, --train_filename arg      Training file name\n",
      "  -e, --test_filename arg       Testing file name\n",
      "  -s, --task_type arg           Task type parameter\n",
      "      --hash_size arg           Positive hash size if use hashing trick, else\n",
      "                                -1, default -1\n",
      "      --hash_random_seed arg    Random seed of hashing\n",
      "  -h, --help                    Usage description\n",
      "\n"
     ]
    }
   ],
   "source": [
    "!./FM --help"
   ]
  },
  {
   "cell_type": "markdown",
   "metadata": {},
   "source": [
    "### Жадный поиск гиперпараметров\n",
    "\n",
    "Начнем жадно подбирать параметры для SGD и ALD независимо. Начнем со старого доброго **SGD**"
   ]
  },
  {
   "cell_type": "code",
   "execution_count": 23,
   "metadata": {},
   "outputs": [
    {
     "name": "stdout",
     "output_type": "stream",
     "text": [
      "Preprocessing\n",
      "Processed 750157 rows\n",
      "Target from 1 to 5\n",
      "Max feature index is 13476\n",
      "Preprocessing\n",
      "Processed 250052 rows\n",
      "Target from 1 to 5\n",
      "Max feature index is 13476\n",
      "iter=0 Train=1.24986 Test=1.25241\n",
      "iter=1 Train=1.24717 Test=1.24976\n",
      "iter=2 Train=1.24731 Test=1.24994\n",
      "iter=3 Train=1.2479 Test=1.25057\n",
      "iter=4 Train=1.24863 Test=1.25135\n",
      "Time:\t\t215 seconds\n"
     ]
    }
   ],
   "source": [
    "t_start = time.time()\n",
    "!./FM --bias true --linear true --task_type regression -t Generated/train_1m_norm_user_reg.fm -e Generated/test_1m_norm_user_reg.fm \\\n",
    "    --learning_rate 0.0001 --learning_method SGD --hash_size -1 -g inplace -i 5\n",
    "print('Time:\\t\\t{} seconds'.format(int(time.time() - t_start)))"
   ]
  },
  {
   "cell_type": "code",
   "execution_count": 20,
   "metadata": {},
   "outputs": [
    {
     "name": "stdout",
     "output_type": "stream",
     "text": [
      "Preprocessing\n",
      "Processed 750157 rows\n",
      "Target from 1 to 5\n",
      "Max feature index is 13476\n",
      "Preprocessing\n",
      "Processed 250052 rows\n",
      "Target from 1 to 5\n",
      "Max feature index is 13476\n",
      "iter=0 Train=1.2283 Test=1.23035\n",
      "iter=1 Train=1.19918 Test=1.20147\n",
      "iter=2 Train=1.19037 Test=1.19275\n",
      "iter=3 Train=1.18601 Test=1.18845\n",
      "iter=4 Train=1.1833 Test=1.18577\n",
      "Time:\t\t255 seconds\n"
     ]
    }
   ],
   "source": [
    "t_start = time.time()\n",
    "!./FM --bias true --linear true --task_type regression -t Generated/train_1m_norm_user_reg.fm -e Generated/test_1m_norm_user_reg.fm \\\n",
    "    --learning_rate 0.00001 --learning_method SGD --hash_size -1 -g inplace -i 5\n",
    "print('Time:\\t\\t{} seconds'.format(int(time.time() - t_start)))"
   ]
  },
  {
   "cell_type": "code",
   "execution_count": 11,
   "metadata": {},
   "outputs": [
    {
     "name": "stdout",
     "output_type": "stream",
     "text": [
      "Preprocessing\n",
      "Processed 750157 rows\n",
      "Target from 1 to 5\n",
      "Max feature index is 13476\n",
      "Preprocessing\n",
      "Processed 250052 rows\n",
      "Target from 1 to 5\n",
      "Max feature index is 13476\n",
      "iter=0 Train=1.22793 Test=1.22998\n",
      "iter=1 Train=1.19955 Test=1.20183\n",
      "iter=2 Train=1.19078 Test=1.19316\n",
      "iter=3 Train=1.18639 Test=1.18882\n",
      "iter=4 Train=1.18362 Test=1.18608\n",
      "Time:\t\t121 seconds\n"
     ]
    }
   ],
   "source": [
    "t_start = time.time()\n",
    "!./FM --bias true --linear true --pairwise 0 --task_type regression -t Generated/train_1m_norm_user_reg.fm -e Generated/test_1m_norm_user_reg.fm \\\n",
    "    --learning_rate 0.00001 --learning_method SGD --hash_size -1 -g inplace -i 5\n",
    "print('Time:\\t\\t{} seconds'.format(int(time.time() - t_start)))"
   ]
  },
  {
   "cell_type": "code",
   "execution_count": 29,
   "metadata": {},
   "outputs": [
    {
     "name": "stdout",
     "output_type": "stream",
     "text": [
      "Preprocessing\n",
      "Processed 750157 rows\n",
      "Target from 1 to 5\n",
      "Max feature index is 13476\n",
      "Preprocessing\n",
      "Processed 250052 rows\n",
      "Target from 1 to 5\n",
      "Max feature index is 13476\n",
      "iter=0 Train=1.57427 Test=1.57586\n",
      "iter=1 Train=1.29442 Test=1.29592\n",
      "iter=2 Train=1.24919 Test=1.25068\n",
      "iter=3 Train=1.22833 Test=1.22986\n",
      "iter=4 Train=1.21293 Test=1.21453\n",
      "Time:\t\t127 seconds\n"
     ]
    }
   ],
   "source": [
    "t_start = time.time()\n",
    "!./FM --bias true --linear true --pairwise 0 --task_type regression -t Generated/train_1m_norm_user_reg.fm -e Generated/test_1m_norm_user_reg.fm \\\n",
    "    --learning_rate 0.000001 --learning_method SGD --hash_size -1 -g inplace -i 5\n",
    "print('Time:\\t\\t{} seconds'.format(int(time.time() - t_start)))"
   ]
  },
  {
   "cell_type": "code",
   "execution_count": 26,
   "metadata": {},
   "outputs": [
    {
     "name": "stdout",
     "output_type": "stream",
     "text": [
      "Preprocessing\n",
      "Processed 750157 rows\n",
      "Target from 1 to 5\n",
      "Max feature index is 13476\n",
      "Preprocessing\n",
      "Processed 250052 rows\n",
      "Target from 1 to 5\n",
      "Max feature index is 13476\n",
      "iter=0 Train=1.23412 Test=1.23618\n",
      "iter=1 Train=1.20378 Test=1.20607\n",
      "iter=2 Train=1.19402 Test=1.19641\n",
      "iter=3 Train=1.18942 Test=1.19184\n",
      "iter=4 Train=1.18681 Test=1.18926\n",
      "Time:\t\t182 seconds\n"
     ]
    }
   ],
   "source": [
    "t_start = time.time()\n",
    "!./FM --bias true --linear true --task_type regression -t Generated/train_1m_norm_user_reg.fm -e Generated/test_1m_norm_user_reg.fm \\\n",
    "    --learning_rate 0.00001 --regularization_const 0.01 --learning_method SGD --hash_size -1 -g inplace -i 5\n",
    "print('Time:\\t\\t{} seconds'.format(int(time.time() - t_start)))"
   ]
  },
  {
   "cell_type": "markdown",
   "metadata": {},
   "source": [
    "**Лучший SGD набирает порядка 1.18 RMSE на отложенной выборке**\n",
    "\n",
    "### ALS"
   ]
  },
  {
   "cell_type": "code",
   "execution_count": 24,
   "metadata": {},
   "outputs": [
    {
     "name": "stdout",
     "output_type": "stream",
     "text": [
      "Preprocessing\n",
      "Processed 750157 rows\n",
      "Target from 1 to 5\n",
      "Max feature index is 13476\n",
      "Preprocessing\n",
      "Processed 250052 rows\n",
      "Target from 1 to 5\n",
      "Max feature index is 13476\n",
      "iter=0 Train=0.883127 Test=0.925434\n",
      "iter=1 Train=0.863028 Test=0.923017\n",
      "iter=2 Train=0.849879 Test=0.919942\n",
      "iter=3 Train=0.840508 Test=0.915377\n",
      "iter=4 Train=0.834058 Test=0.911848\n",
      "Time:\t\t859 seconds\n"
     ]
    }
   ],
   "source": [
    "t_start = time.time()\n",
    "!./FM --bias true --linear true --task_type regression -t Generated/train_1m_norm_user_reg.fm -e Generated/test_1m_norm_user_reg.fm \\\n",
    "    --learning_method ALS --hash_size -1 -i 5\n",
    "print('Time:\\t\\t{} seconds'.format(int(time.time() - t_start)))"
   ]
  },
  {
   "cell_type": "code",
   "execution_count": 28,
   "metadata": {},
   "outputs": [
    {
     "name": "stdout",
     "output_type": "stream",
     "text": [
      "Preprocessing\n",
      "Processed 750157 rows\n",
      "Target from 1 to 5\n",
      "Max feature index is 13476\n",
      "Preprocessing\n",
      "Processed 250052 rows\n",
      "Target from 1 to 5\n",
      "Max feature index is 13476\n",
      "iter=0 Train=0.904478 Test=0.920831\n",
      "iter=1 Train=0.895432 Test=0.911426\n",
      "iter=2 Train=0.894925 Test=0.910885\n",
      "iter=3 Train=0.894861 Test=0.910814\n",
      "iter=4 Train=0.894837 Test=0.910785\n",
      "Time:\t\t165 seconds\n"
     ]
    }
   ],
   "source": [
    "t_start = time.time()\n",
    "!./FM --bias true --linear true --pairwise 0 --task_type regression -t Generated/train_1m_norm_user_reg.fm -e Generated/test_1m_norm_user_reg.fm \\\n",
    "    --learning_method ALS --hash_size -1 -i 5\n",
    "print('Time:\\t\\t{} seconds'.format(int(time.time() - t_start)))"
   ]
  },
  {
   "cell_type": "code",
   "execution_count": 29,
   "metadata": {},
   "outputs": [
    {
     "name": "stdout",
     "output_type": "stream",
     "text": [
      "Preprocessing\n",
      "Processed 750157 rows\n",
      "Target from 1 to 5\n",
      "Max feature index is 13476\n",
      "Preprocessing\n",
      "Processed 250052 rows\n",
      "Target from 1 to 5\n",
      "Max feature index is 13476\n",
      "iter=0 Train=0.937126 Test=0.94576\n",
      "iter=1 Train=0.935544 Test=0.943866\n",
      "iter=2 Train=0.93519 Test=0.943468\n",
      "iter=3 Train=0.934827 Test=0.943097\n",
      "iter=4 Train=0.934496 Test=0.942765\n",
      "Time:\t\t161 seconds\n"
     ]
    }
   ],
   "source": [
    "t_start = time.time()\n",
    "!./FM --bias true --linear true --pairwise 0 --task_type regression -t Generated/train_1m_norm_user_reg.fm -e Generated/test_1m_norm_user_reg.fm \\\n",
    "    --learning_method ALS --regularization_const 0.00001 --hash_size -1 -i 5\n",
    "print('Time:\\t\\t{} seconds'.format(int(time.time() - t_start)))"
   ]
  },
  {
   "cell_type": "markdown",
   "metadata": {},
   "source": [
    "**Лучший скор - 0.910**\n",
    "\n",
    "**ALS результаты и вовсе внушительные, причем наличие парных взаимодействий на данном датасете на эффективность особо не влияет**"
   ]
  },
  {
   "cell_type": "markdown",
   "metadata": {},
   "source": [
    "## VW\n",
    "### Приведем наши датасеты к формату VW"
   ]
  },
  {
   "cell_type": "code",
   "execution_count": 35,
   "metadata": {},
   "outputs": [
    {
     "name": "stderr",
     "output_type": "stream",
     "text": [
      "750157it [00:01, 673301.96it/s]\n",
      "250052it [00:00, 718377.71it/s]\n"
     ]
    }
   ],
   "source": [
    "fm2vw('Generated/train_1m_norm_user_reg.fm', 'Generated/train_1m_norm_user_reg.vw')\n",
    "fm2vw('Generated/test_1m_norm_user_reg.fm', 'Generated/test_1m_norm_user_reg.vw')"
   ]
  },
  {
   "cell_type": "markdown",
   "metadata": {},
   "source": [
    "### И снова как мы любим начнем жадно выбирать параметры\n",
    "\n",
    "Начнем с SGD и найдем хороший learning rate"
   ]
  },
  {
   "cell_type": "code",
   "execution_count": 39,
   "metadata": {},
   "outputs": [
    {
     "name": "stdout",
     "output_type": "stream",
     "text": [
      "Training done - 4 seconds\n",
      "Start evaluation\n",
      "Validation RMSE:\t 1.198904507129869\n",
      "Time:\t\t6 seconds\n"
     ]
    }
   ],
   "source": [
    "t_start = time.time()\n",
    "!vw Generated/train_1m_norm_user_reg.vw -f VwHelpFiles/model --loss_function squared --sgd --learning_rate 0.01 -b 14 --passes 5 --cache_file VwHelpFiles/cache --quiet\n",
    "print('Training done - {0} seconds'.format(int(time.time() - t_start)))\n",
    "! vw -i VwHelpFiles/model -t Generated/test_1m_norm_user_reg.vw -r VwHelpFiles/pred --quiet\n",
    "print('Start evaluation')\n",
    "print('Validation RMSE:\\t {}'.format(get_rmse('Generated/ytest_1m_norm_user_reg', 'VwHelpFiles/pred')))\n",
    "print('Time:\\t\\t{} seconds'.format(int(time.time() - t_start)))"
   ]
  },
  {
   "cell_type": "code",
   "execution_count": 37,
   "metadata": {},
   "outputs": [
    {
     "name": "stdout",
     "output_type": "stream",
     "text": [
      "Training done - 4 seconds\n",
      "Start evaluation\n",
      "Validation RMSE:\t 1.1675452150871288\n",
      "Time:\t\t6 seconds\n"
     ]
    }
   ],
   "source": [
    "t_start = time.time()\n",
    "!vw Generated/train_1m_norm_user_reg.vw -f VwHelpFiles/model --loss_function squared --sgd --learning_rate 0.001 -b 14 --passes 5 --cache_file VwHelpFiles/cache --quiet\n",
    "print('Training done - {0} seconds'.format(int(time.time() - t_start)))\n",
    "! vw -i VwHelpFiles/model -t Generated/test_1m_norm_user_reg.vw -r VwHelpFiles/pred --quiet\n",
    "print('Start evaluation')\n",
    "print('Validation RMSE:\\t {}'.format(get_rmse('Generated/ytest_1m_norm_user_reg', 'VwHelpFiles/pred')))\n",
    "print('Time:\\t\\t{} seconds'.format(int(time.time() - t_start)))"
   ]
  },
  {
   "cell_type": "code",
   "execution_count": 40,
   "metadata": {},
   "outputs": [
    {
     "name": "stdout",
     "output_type": "stream",
     "text": [
      "Training done - 4 seconds\n",
      "Start evaluation\n",
      "Validation RMSE:\t 1.5458927830958853\n",
      "Time:\t\t6 seconds\n"
     ]
    }
   ],
   "source": [
    "t_start = time.time()\n",
    "!vw Generated/train_1m_norm_user_reg.vw -f VwHelpFiles/model --loss_function squared --sgd --learning_rate 0.0001 -b 14 --passes 5 --cache_file VwHelpFiles/cache --quiet\n",
    "print('Training done - {0} seconds'.format(int(time.time() - t_start)))\n",
    "! vw -i VwHelpFiles/model -t Generated/test_1m_norm_user_reg.vw -r VwHelpFiles/pred --quiet\n",
    "print('Start evaluation')\n",
    "print('Validation RMSE:\\t {}'.format(get_rmse('Generated/ytest_1m_norm_user_reg', 'VwHelpFiles/pred')))\n",
    "print('Time:\\t\\t{} seconds'.format(int(time.time() - t_start)))"
   ]
  },
  {
   "cell_type": "markdown",
   "metadata": {},
   "source": [
    "### Число проходов\n",
    "\n",
    "Для лучшей конфигуразции будем увеличивать число проходов"
   ]
  },
  {
   "cell_type": "code",
   "execution_count": 38,
   "metadata": {},
   "outputs": [
    {
     "name": "stdout",
     "output_type": "stream",
     "text": [
      "Training done - 8 seconds\n",
      "Start evaluation\n",
      "Validation RMSE:\t 1.1483929069769112\n",
      "Time:\t\t10 seconds\n"
     ]
    }
   ],
   "source": [
    "t_start = time.time()\n",
    "!vw Generated/train_1m_norm_user_reg.vw -f VwHelpFiles/model --loss_function squared --sgd --learning_rate 0.001 -b 14 --passes 10 --cache_file VwHelpFiles/cache --quiet\n",
    "print('Training done - {0} seconds'.format(int(time.time() - t_start)))\n",
    "! vw -i VwHelpFiles/model -t Generated/test_1m_norm_user_reg.vw -r VwHelpFiles/pred --quiet\n",
    "print('Start evaluation')\n",
    "print('Validation RMSE:\\t {}'.format(get_rmse('Generated/ytest_1m_norm_user_reg', 'VwHelpFiles/pred')))\n",
    "print('Time:\\t\\t{} seconds'.format(int(time.time() - t_start)))"
   ]
  },
  {
   "cell_type": "code",
   "execution_count": 43,
   "metadata": {},
   "outputs": [
    {
     "name": "stdout",
     "output_type": "stream",
     "text": [
      "Training done - 15 seconds\n",
      "Start evaluation\n",
      "Validation RMSE:\t 1.1354925339260975\n",
      "Time:\t\t18 seconds\n"
     ]
    }
   ],
   "source": [
    "t_start = time.time()\n",
    "!vw Generated/train_1m_norm_user_reg.vw -f VwHelpFiles/model --loss_function squared --sgd --learning_rate 0.001 -b 14 --passes 20 --cache_file VwHelpFiles/cache --quiet\n",
    "print('Training done - {0} seconds'.format(int(time.time() - t_start)))\n",
    "! vw -i VwHelpFiles/model -t Generated/test_1m_norm_user_reg.vw -r VwHelpFiles/pred --quiet\n",
    "print('Start evaluation')\n",
    "print('Validation RMSE:\\t {}'.format(get_rmse('Generated/ytest_1m_norm_user_reg', 'VwHelpFiles/pred')))\n",
    "print('Time:\\t\\t{} seconds'.format(int(time.time() - t_start)))"
   ]
  },
  {
   "cell_type": "code",
   "execution_count": 44,
   "metadata": {},
   "outputs": [
    {
     "name": "stdout",
     "output_type": "stream",
     "text": [
      "Training done - 31 seconds\n",
      "Start evaluation\n",
      "Validation RMSE:\t 1.1269815304667365\n",
      "Time:\t\t33 seconds\n"
     ]
    }
   ],
   "source": [
    "t_start = time.time()\n",
    "!vw Generated/train_1m_norm_user_reg.vw -f VwHelpFiles/model --loss_function squared --sgd --learning_rate 0.001 -b 14 --passes 40 --cache_file VwHelpFiles/cache --quiet\n",
    "print('Training done - {0} seconds'.format(int(time.time() - t_start)))\n",
    "! vw -i VwHelpFiles/model -t Generated/test_1m_norm_user_reg.vw -r VwHelpFiles/pred --quiet\n",
    "print('Start evaluation')\n",
    "print('Validation RMSE:\\t {}'.format(get_rmse('Generated/ytest_1m_norm_user_reg', 'VwHelpFiles/pred')))\n",
    "print('Time:\\t\\t{} seconds'.format(int(time.time() - t_start)))"
   ]
  },
  {
   "cell_type": "code",
   "execution_count": 55,
   "metadata": {},
   "outputs": [
    {
     "name": "stdout",
     "output_type": "stream",
     "text": [
      "Training done - 62 seconds\n",
      "Start evaluation\n",
      "Validation RMSE:\t 1.1224261716600354\n",
      "Time:\t\t64 seconds\n"
     ]
    }
   ],
   "source": [
    "t_start = time.time()\n",
    "!vw Generated/train_1m_norm_user_reg.vw -f VwHelpFiles/model --loss_function squared --sgd --learning_rate 0.001 -b 14 --passes 80 --cache_file VwHelpFiles/cache --quiet\n",
    "print('Training done - {0} seconds'.format(int(time.time() - t_start)))\n",
    "! vw -i VwHelpFiles/model -t Generated/test_1m_norm_user_reg.vw -r VwHelpFiles/pred --quiet\n",
    "print('Start evaluation')\n",
    "print('Validation RMSE:\\t {}'.format(get_rmse('Generated/ytest_1m_norm_user_reg', 'VwHelpFiles/pred')))\n",
    "print('Time:\\t\\t{} seconds'.format(int(time.time() - t_start)))"
   ]
  },
  {
   "cell_type": "markdown",
   "metadata": {},
   "source": [
    "**Лучший результат на VW SGD - 1.1224**\n",
    "\n",
    "Попробуем на хитрых дефолтных параметрах"
   ]
  },
  {
   "cell_type": "code",
   "execution_count": 46,
   "metadata": {},
   "outputs": [
    {
     "name": "stdout",
     "output_type": "stream",
     "text": [
      "Training done - 4 seconds\n",
      "Start evaluation\n",
      "Validation RMSE:\t 1.397999386906915\n",
      "Time:\t\t6 seconds\n"
     ]
    }
   ],
   "source": [
    "t_start = time.time()\n",
    "!vw Generated/train_1m_norm_user_reg.vw -f VwHelpFiles/model --loss_function squared --learning_rate 0.001 -b 14 --passes 5 --cache_file VwHelpFiles/cache --quiet\n",
    "print('Training done - {0} seconds'.format(int(time.time() - t_start)))\n",
    "! vw -i VwHelpFiles/model -t Generated/test_1m_norm_user_reg.vw -r VwHelpFiles/pred --quiet\n",
    "print('Start evaluation')\n",
    "print('Validation RMSE:\\t {}'.format(get_rmse('Generated/ytest_1m_norm_user_reg', 'VwHelpFiles/pred')))\n",
    "print('Time:\\t\\t{} seconds'.format(int(time.time() - t_start)))"
   ]
  },
  {
   "cell_type": "code",
   "execution_count": 48,
   "metadata": {},
   "outputs": [
    {
     "name": "stdout",
     "output_type": "stream",
     "text": [
      "Training done - 4 seconds\n",
      "Start evaluation\n",
      "Validation RMSE:\t 1.068677025561811\n",
      "Time:\t\t6 seconds\n"
     ]
    }
   ],
   "source": [
    "t_start = time.time()\n",
    "!vw Generated/train_1m_norm_user_reg.vw -f VwHelpFiles/model --loss_function squared --learning_rate 0.01 -b 14 --passes 5 --cache_file VwHelpFiles/cache --quiet\n",
    "print('Training done - {0} seconds'.format(int(time.time() - t_start)))\n",
    "! vw -i VwHelpFiles/model -t Generated/test_1m_norm_user_reg.vw -r VwHelpFiles/pred --quiet\n",
    "print('Start evaluation')\n",
    "print('Validation RMSE:\\t {}'.format(get_rmse('Generated/ytest_1m_norm_user_reg', 'VwHelpFiles/pred')))\n",
    "print('Time:\\t\\t{} seconds'.format(int(time.time() - t_start)))"
   ]
  },
  {
   "cell_type": "code",
   "execution_count": 56,
   "metadata": {},
   "outputs": [
    {
     "name": "stdout",
     "output_type": "stream",
     "text": [
      "Training done - 70 seconds\n",
      "Start evaluation\n",
      "Validation RMSE:\t 0.9439532525754946\n",
      "Time:\t\t72 seconds\n"
     ]
    }
   ],
   "source": [
    "t_start = time.time()\n",
    "!vw Generated/train_1m_norm_user_reg.vw -f VwHelpFiles/model --loss_function squared --learning_rate 0.01 -b 14 --passes 80 --cache_file VwHelpFiles/cache --quiet\n",
    "print('Training done - {0} seconds'.format(int(time.time() - t_start)))\n",
    "! vw -i VwHelpFiles/model -t Generated/test_1m_norm_user_reg.vw -r VwHelpFiles/pred --quiet\n",
    "print('Start evaluation')\n",
    "print('Validation RMSE:\\t {}'.format(get_rmse('Generated/ytest_1m_norm_user_reg', 'VwHelpFiles/pred')))\n",
    "print('Time:\\t\\t{} seconds'.format(int(time.time() - t_start)))"
   ]
  },
  {
   "cell_type": "markdown",
   "metadata": {},
   "source": [
    "**Лучший результат на VW - 0.944**\n",
    "\n",
    "Напомню, что лучший скор нашей тулзы был 0.910\n",
    "\n",
    "**И хотя какой-то хороший бейзлайн на VW получается довольно шустро, такого же качества, которое давал нам ALS добиться на VW не удалось**\n",
    "\n",
    "\n",
    "# Ненормированные ml-1m\n",
    "Посмотрим как себя поведут утилиты на ненормированных признаках"
   ]
  },
  {
   "cell_type": "code",
   "execution_count": 9,
   "metadata": {},
   "outputs": [
    {
     "name": "stderr",
     "output_type": "stream",
     "text": [
      "100%|██████████| 750157/750157 [05:15<00:00, 2378.11it/s]\n",
      "100%|██████████| 250052/250052 [01:51<00:00, 2241.35it/s]\n"
     ]
    }
   ],
   "source": [
    "train2format(train, fm_extractor, field_info, 'Generated/train_1m_user_reg.fm',\n",
    "             with_normalization=False, with_user_features=True)\n",
    "test2format(test, fm_extractor, field_info, 'Generated/test_1m_user_reg.fm', 'Generated/ytest_1m_user_reg', \n",
    "            with_normalization=False, with_user_features=True)"
   ]
  },
  {
   "cell_type": "code",
   "execution_count": 10,
   "metadata": {},
   "outputs": [
    {
     "name": "stdout",
     "output_type": "stream",
     "text": [
      "Preprocessing\n",
      "Processed 750157 rows\n",
      "Target from 1 to 5\n",
      "Max feature index is 13476\n",
      "Preprocessing\n",
      "Processed 250052 rows\n",
      "Target from 1 to 5\n",
      "Max feature index is 13476\n",
      "iter=0 Train=1.16565 Test=1.17666\n",
      "iter=1 Train=1.12185 Test=1.13626\n",
      "iter=2 Train=1.10682 Test=1.12384\n",
      "iter=3 Train=1.10884 Test=1.12796\n",
      "iter=4 Train=1.11811 Test=1.13904\n",
      "Time:\t\t215 seconds\n"
     ]
    }
   ],
   "source": [
    "t_start = time.time()\n",
    "!./FM --bias true --linear true --task_type regression -t Generated/train_1m_user_reg.fm -e Generated/test_1m_user_reg.fm \\\n",
    "    --learning_rate 0.01 --learning_method SGD --hash_size -1 -g inplace -i 5\n",
    "print('Time:\\t\\t{} seconds'.format(int(time.time() - t_start)))"
   ]
  },
  {
   "cell_type": "markdown",
   "metadata": {},
   "source": [
    "### Добавим регуляризацию\n",
    "\n",
    "Как видим есть риск сильно перестараться"
   ]
  },
  {
   "cell_type": "code",
   "execution_count": 18,
   "metadata": {},
   "outputs": [
    {
     "name": "stdout",
     "output_type": "stream",
     "text": [
      "Preprocessing\n",
      "Processed 750157 rows\n",
      "Target from 1 to 5\n",
      "Max feature index is 13476\n",
      "Preprocessing\n",
      "Processed 250052 rows\n",
      "Target from 1 to 5\n",
      "Max feature index is 13476\n",
      "iter=0 Train=1.81831 Test=1.81998\n",
      "iter=1 Train=1.80246 Test=1.80387\n",
      "iter=2 Train=1.80235 Test=1.80342\n",
      "iter=3 Train=1.80293 Test=1.80416\n",
      "iter=4 Train=1.80428 Test=1.80517\n",
      "Time:\t\t213 seconds\n"
     ]
    }
   ],
   "source": [
    "t_start = time.time()\n",
    "!./FM --bias true --linear true --task_type regression -t Generated/train_1m_user_reg.fm -e Generated/test_1m_user_reg.fm  \\\n",
    "    --learning_rate 0.01 --learning_method SGD --regularization_const 0.1 --hash_size -1 -g inplace -i 5\n",
    "print('Time:\\t\\t{} seconds'.format(int(time.time() - t_start)))"
   ]
  },
  {
   "cell_type": "code",
   "execution_count": 20,
   "metadata": {},
   "outputs": [
    {
     "name": "stdout",
     "output_type": "stream",
     "text": [
      "Preprocessing\n",
      "Processed 750157 rows\n",
      "Target from 1 to 5\n",
      "Max feature index is 13476\n",
      "Preprocessing\n",
      "Processed 250052 rows\n",
      "Target from 1 to 5\n",
      "Max feature index is 13476\n",
      "iter=0 Train=1.07767 Test=1.08947\n",
      "iter=1 Train=1.01272 Test=1.02826\n",
      "iter=2 Train=0.987602 Test=1.00637\n",
      "iter=3 Train=0.986864 Test=1.00808\n",
      "iter=4 Train=0.997491 Test=1.02045\n",
      "Time:\t\t214 seconds\n"
     ]
    }
   ],
   "source": [
    "t_start = time.time()\n",
    "!./FM --bias true --linear true --task_type regression -t Generated/train_1m_user_reg.fm -e Generated/test_1m_user_reg.fm \\\n",
    "    --learning_rate 0.01 --learning_method SGD --regularization_const 0.01 --hash_size -1 -g inplace -i 5\n",
    "print('Time:\\t\\t{} seconds'.format(int(time.time() - t_start)))"
   ]
  },
  {
   "cell_type": "code",
   "execution_count": 9,
   "metadata": {},
   "outputs": [
    {
     "name": "stdout",
     "output_type": "stream",
     "text": [
      "Preprocessing\n",
      "Processed 750157 rows\n",
      "Target from 1 to 5\n",
      "Max feature index is 13476\n",
      "Preprocessing\n",
      "Processed 250052 rows\n",
      "Target from 1 to 5\n",
      "Max feature index is 13476\n",
      "iter=0 Train=1.08072 Test=1.09072\n",
      "iter=1 Train=1.02721 Test=1.03871\n",
      "iter=2 Train=1.00472 Test=1.01701\n",
      "iter=3 Train=0.99589 Test=1.00862\n",
      "iter=4 Train=0.993802 Test=1.00679\n",
      "Time:\t\t113 seconds\n"
     ]
    }
   ],
   "source": [
    "t_start = time.time()\n",
    "!./FM --bias true --linear true --pairwise 0 --task_type regression -t Generated/train_1m_user_reg.fm -e Generated/test_1m_user_reg.fm \\\n",
    "    --learning_rate 0.01 --learning_method SGD --regularization_const 0.01 --hash_size -1 -g inplace -i 5\n",
    "print('Time:\\t\\t{} seconds'.format(int(time.time() - t_start)))"
   ]
  },
  {
   "cell_type": "code",
   "execution_count": 19,
   "metadata": {},
   "outputs": [
    {
     "name": "stdout",
     "output_type": "stream",
     "text": [
      "Preprocessing\n",
      "Processed 750157 rows\n",
      "Target from 1 to 5\n",
      "Max feature index is 13476\n",
      "Preprocessing\n",
      "Processed 250052 rows\n",
      "Target from 1 to 5\n",
      "Max feature index is 13476\n",
      "iter=0 Train=1.15296 Test=1.16405\n",
      "iter=1 Train=1.10143 Test=1.11605\n",
      "iter=2 Train=1.07779 Test=1.09532\n",
      "iter=3 Train=1.07129 Test=1.09123\n",
      "iter=4 Train=1.07314 Test=1.09513\n",
      "Time:\t\t219 seconds\n"
     ]
    }
   ],
   "source": [
    "t_start = time.time()\n",
    "!./FM --bias true --linear true --task_type regression -t Generated/train_1m_user_reg.fm -e Generated/test_1m_user_reg.fm \\\n",
    "    --learning_rate 0.01 --learning_method SGD --regularization_const 0.001 --hash_size -1 -g inplace -i 5\n",
    "print('Time:\\t\\t{} seconds'.format(int(time.time() - t_start)))"
   ]
  },
  {
   "cell_type": "markdown",
   "metadata": {},
   "source": [
    "### Добавим итераций лучшим алгоритмам\n"
   ]
  },
  {
   "cell_type": "code",
   "execution_count": 23,
   "metadata": {},
   "outputs": [
    {
     "name": "stdout",
     "output_type": "stream",
     "text": [
      "Preprocessing\n",
      "Processed 750157 rows\n",
      "Target from 1 to 5\n",
      "Max feature index is 13476\n",
      "Preprocessing\n",
      "Processed 250052 rows\n",
      "Target from 1 to 5\n",
      "Max feature index is 13476\n",
      "iter=0 Train=1.19262 Test=1.19966\n",
      "iter=1 Train=1.13433 Test=1.14319\n",
      "iter=2 Train=1.09052 Test=1.10094\n",
      "iter=3 Train=1.05602 Test=1.06792\n",
      "iter=4 Train=1.02983 Test=1.04315\n",
      "iter=5 Train=1.01051 Test=1.02516\n",
      "iter=6 Train=0.996751 Test=1.01261\n",
      "iter=7 Train=0.987356 Test=1.00432\n",
      "iter=8 Train=0.981408 Test=0.999345\n",
      "iter=9 Train=0.978387 Test=0.997183\n",
      "Time:\t\t389 seconds\n"
     ]
    }
   ],
   "source": [
    "t_start = time.time()\n",
    "!./FM --bias true --linear true --task_type regression -t Generated/train_1m_user_reg.fm -e Generated/test_1m_user_reg.fm \\\n",
    "    --learning_rate 0.002 --learning_method SGD --regularization_const 0.01 --hash_size -1 -g inplace -i 10\n",
    "print('Time:\\t\\t{} seconds'.format(int(time.time() - t_start)))"
   ]
  },
  {
   "cell_type": "code",
   "execution_count": 10,
   "metadata": {},
   "outputs": [
    {
     "name": "stdout",
     "output_type": "stream",
     "text": [
      "Preprocessing\n",
      "Processed 750157 rows\n",
      "Target from 1 to 5\n",
      "Max feature index is 13476\n",
      "Preprocessing\n",
      "Processed 250052 rows\n",
      "Target from 1 to 5\n",
      "Max feature index is 13476\n",
      "iter=0 Train=1.08072 Test=1.09072\n",
      "iter=1 Train=1.02721 Test=1.03871\n",
      "iter=2 Train=1.00472 Test=1.01701\n",
      "iter=3 Train=0.99589 Test=1.00862\n",
      "iter=4 Train=0.993802 Test=1.00679\n",
      "iter=5 Train=0.995354 Test=1.00846\n",
      "iter=6 Train=0.99901 Test=1.01218\n",
      "iter=7 Train=1.00396 Test=1.01715\n",
      "iter=8 Train=1.00975 Test=1.02291\n",
      "iter=9 Train=1.01606 Test=1.0292\n",
      "Time:\t\t230 seconds\n"
     ]
    }
   ],
   "source": [
    "t_start = time.time()\n",
    "!./FM --bias true --linear true --pairwise 0 --task_type regression -t Generated/train_1m_user_reg.fm -e Generated/test_1m_user_reg.fm \\\n",
    "    --learning_rate 0.01 --learning_method SGD --regularization_const 0.01 --hash_size -1 -g inplace -i 10\n",
    "print('Time:\\t\\t{} seconds'.format(int(time.time() - t_start)))"
   ]
  },
  {
   "cell_type": "markdown",
   "metadata": {},
   "source": [
    "**Лучший результат нашей тулзы на SGD показал 0.997 RMSE на отложенной выборке**\n",
    "### ALS"
   ]
  },
  {
   "cell_type": "code",
   "execution_count": 49,
   "metadata": {},
   "outputs": [
    {
     "name": "stdout",
     "output_type": "stream",
     "text": [
      "Preprocessing\n",
      "Processed 750157 rows\n",
      "Target from 1 to 5\n",
      "Max feature index is 13476\n",
      "Preprocessing\n",
      "Processed 250052 rows\n",
      "Target from 1 to 5\n",
      "Max feature index is 13476\n",
      "iter=0 Train=0.864562 Test=0.917794\n",
      "iter=1 Train=0.836503 Test=0.904523\n",
      "iter=2 Train=0.822554 Test=0.896032\n",
      "iter=3 Train=0.815551 Test=0.891903\n",
      "iter=4 Train=0.811589 Test=0.889514\n",
      "Time:\t\t781 seconds\n"
     ]
    }
   ],
   "source": [
    "t_start = time.time()\n",
    "!./FM --bias true --linear true --task_type regression -t Generated/train_1m_user_reg.fm -e Generated/test_1m_user_reg.fm \\\n",
    "    --learning_method ALS --hash_size -1 -g memory -i 5\n",
    "print('Time:\\t\\t{} seconds'.format(int(time.time() - t_start)))"
   ]
  },
  {
   "cell_type": "code",
   "execution_count": 51,
   "metadata": {},
   "outputs": [
    {
     "name": "stdout",
     "output_type": "stream",
     "text": [
      "Preprocessing\n",
      "Processed 750157 rows\n",
      "Target from 1 to 5\n",
      "Max feature index is 13476\n",
      "Preprocessing\n",
      "Processed 250052 rows\n",
      "Target from 1 to 5\n",
      "Max feature index is 13476\n",
      "iter=0 Train=0.904478 Test=0.920831\n",
      "iter=1 Train=0.895432 Test=0.911426\n",
      "iter=2 Train=0.894925 Test=0.910885\n",
      "iter=3 Train=0.894861 Test=0.910814\n",
      "iter=4 Train=0.894837 Test=0.910785\n",
      "Time:\t\t164 seconds\n"
     ]
    }
   ],
   "source": [
    "t_start = time.time()\n",
    "!./FM --bias true --linear true --pairwise 0 --task_type regression -t Generated/train_1m_user_reg.fm -e Generated/test_1m_user_reg.fm \\\n",
    "    --learning_method ALS --hash_size -1 -g memory -i 5\n",
    "print('Time:\\t\\t{} seconds'.format(int(time.time() - t_start)))"
   ]
  },
  {
   "cell_type": "markdown",
   "metadata": {},
   "source": [
    "**Обращаю внимание какой хороший эффект дают парные фичи, но при этом сильно замедляя работу**"
   ]
  },
  {
   "cell_type": "code",
   "execution_count": 52,
   "metadata": {},
   "outputs": [
    {
     "name": "stdout",
     "output_type": "stream",
     "text": [
      "Preprocessing\n",
      "Processed 750157 rows\n",
      "Target from 1 to 5\n",
      "Max feature index is 13476\n",
      "Preprocessing\n",
      "Processed 250052 rows\n",
      "Target from 1 to 5\n",
      "Max feature index is 13476\n",
      "iter=0 Train=0.904478 Test=0.920826\n",
      "iter=1 Train=0.895433 Test=0.911422\n",
      "iter=2 Train=0.894925 Test=0.910881\n",
      "iter=3 Train=0.894861 Test=0.910809\n",
      "iter=4 Train=0.894837 Test=0.91078\n",
      "Time:\t\t157 seconds\n"
     ]
    }
   ],
   "source": [
    "t_start = time.time()\n",
    "!./FM --bias true --linear true --pairwise 0 --task_type regression -t Generated/train_1m_user_reg.fm -e Generated/test_1m_user_reg.fm \\\n",
    "    --learning_method ALS --regularization_const 0.01 --hash_size -1 -g memory -i 5\n",
    "print('Time:\\t\\t{} seconds'.format(int(time.time() - t_start)))"
   ]
  },
  {
   "cell_type": "code",
   "execution_count": 57,
   "metadata": {},
   "outputs": [
    {
     "name": "stdout",
     "output_type": "stream",
     "text": [
      "Preprocessing\n",
      "Processed 750157 rows\n",
      "Target from 1 to 5\n",
      "Max feature index is 13476\n",
      "Preprocessing\n",
      "Processed 250052 rows\n",
      "Target from 1 to 5\n",
      "Max feature index is 13476\n",
      "iter=0 Train=0.904478 Test=0.92083\n",
      "iter=1 Train=0.895432 Test=0.911426\n",
      "Time:\t\t75 seconds\n"
     ]
    }
   ],
   "source": [
    "t_start = time.time()\n",
    "!./FM --bias true --linear true --pairwise 0 --task_type regression -t Generated/train_1m_user_reg.fm -e Generated/test_1m_user_reg.fm \\\n",
    "    --learning_method ALS --regularization_const 0.001 --hash_size -1 -g memory -i 2\n",
    "print('Time:\\t\\t{} seconds'.format(int(time.time() - t_start)))"
   ]
  },
  {
   "cell_type": "code",
   "execution_count": 56,
   "metadata": {},
   "outputs": [
    {
     "name": "stdout",
     "output_type": "stream",
     "text": [
      "Preprocessing\n",
      "Processed 750157 rows\n",
      "Target from 1 to 5\n",
      "Max feature index is 13476\n",
      "Preprocessing\n",
      "Processed 250052 rows\n",
      "Target from 1 to 5\n",
      "Max feature index is 13476\n",
      "iter=0 Train=0.864562 Test=0.917794\n",
      "iter=1 Train=0.836503 Test=0.904523\n",
      "iter=2 Train=0.822554 Test=0.896032\n",
      "iter=3 Train=0.815551 Test=0.891903\n",
      "iter=4 Train=0.811589 Test=0.889514\n",
      "iter=5 Train=0.809086 Test=0.88802\n",
      "iter=6 Train=0.807374 Test=0.887033\n",
      "iter=7 Train=0.806132 Test=0.886277\n",
      "iter=8 Train=0.805194 Test=0.885726\n",
      "iter=9 Train=0.804467 Test=0.885303\n",
      "Time:\t\t1844 seconds\n"
     ]
    }
   ],
   "source": [
    "t_start = time.time()\n",
    "!./FM --bias true --linear true --task_type regression -t Generated/train_1m_user_reg.fm -e Generated/test_1m_user_reg.fm \\\n",
    "    --learning_method ALS --hash_size -1 -g memory -i 10\n",
    "print('Time:\\t\\t{} seconds'.format(int(time.time() - t_start)))"
   ]
  },
  {
   "cell_type": "markdown",
   "metadata": {},
   "source": [
    "**Итого лучший ALS с 10 проходами и 4 компонентами на парные взаимодействия показал 0.885 RMSE, обучаясь порядка 30 минут**\n",
    "\n",
    "**Результат 0.91 же мог быть достигнут и без парных взаимодействий за 2 прохода достаточно шустро**\n",
    "\n",
    "## Vowpal wabbit"
   ]
  },
  {
   "cell_type": "code",
   "execution_count": 30,
   "metadata": {},
   "outputs": [
    {
     "name": "stderr",
     "output_type": "stream",
     "text": [
      "750157it [00:00, 915839.16it/s]\n",
      "250052it [00:00, 799685.63it/s]\n"
     ]
    }
   ],
   "source": [
    "fm2vw('Generated/train_1m_user_reg.fm', 'Generated/train_1m_user_reg.vw')\n",
    "fm2vw('Generated/test_1m_user_reg.fm', 'Generated/test_1m_user_reg.vw')"
   ]
  },
  {
   "cell_type": "code",
   "execution_count": 39,
   "metadata": {},
   "outputs": [
    {
     "name": "stdout",
     "output_type": "stream",
     "text": [
      "Training done - 4 seconds\n",
      "Start evaluation\n",
      "Validation RMSE:\t 1.1573913484777147\n",
      "Time:\t\t6 seconds\n"
     ]
    }
   ],
   "source": [
    "t_start = time.time()\n",
    "!vw Generated/train_1m_user_reg.vw -f VwHelpFiles/model --loss_function squared --sgd --learning_rate 0.001 -b 14 --passes 5 --cache_file VwHelpFiles/cache --quiet\n",
    "print('Training done - {0} seconds'.format(int(time.time() - t_start)))\n",
    "! vw -i VwHelpFiles/model -t Generated/test_1m_user_reg.vw -r VwHelpFiles/pred --quiet\n",
    "print('Start evaluation')\n",
    "print('Validation RMSE:\\t {}'.format(get_rmse('Generated/ytest_1m_user_reg', 'VwHelpFiles/pred')))\n",
    "print('Time:\\t\\t{} seconds'.format(int(time.time() - t_start)))"
   ]
  },
  {
   "cell_type": "code",
   "execution_count": 40,
   "metadata": {},
   "outputs": [
    {
     "name": "stdout",
     "output_type": "stream",
     "text": [
      "Training done - 8 seconds\n",
      "Start evaluation\n",
      "Validation RMSE:\t 1.139532181507997\n",
      "Time:\t\t10 seconds\n"
     ]
    }
   ],
   "source": [
    "t_start = time.time()\n",
    "!vw Generated/train_1m_user_reg.vw -f VwHelpFiles/model --loss_function squared --sgd --learning_rate 0.001 -b 14 --passes 10 --cache_file VwHelpFiles/cache --quiet\n",
    "print('Training done - {0} seconds'.format(int(time.time() - t_start)))\n",
    "! vw -i VwHelpFiles/model -t Generated/test_1m_user_reg.vw -r VwHelpFiles/pred --quiet\n",
    "print('Start evaluation')\n",
    "print('Validation RMSE:\\t {}'.format(get_rmse('Generated/ytest_1m_user_reg', 'VwHelpFiles/pred')))\n",
    "print('Time:\\t\\t{} seconds'.format(int(time.time() - t_start)))"
   ]
  },
  {
   "cell_type": "code",
   "execution_count": 43,
   "metadata": {},
   "outputs": [
    {
     "name": "stdout",
     "output_type": "stream",
     "text": [
      "Training done - 69 seconds\n",
      "Start evaluation\n",
      "Validation RMSE:\t 1.1148919874990038\n",
      "Time:\t\t71 seconds\n"
     ]
    }
   ],
   "source": [
    "t_start = time.time()\n",
    "!vw Generated/train_1m_user_reg.vw -f VwHelpFiles/model --loss_function squared --sgd --learning_rate 0.001 -b 14 --passes 80 --cache_file VwHelpFiles/cache --quiet\n",
    "print('Training done - {0} seconds'.format(int(time.time() - t_start)))\n",
    "! vw -i VwHelpFiles/model -t Generated/test_1m_user_reg.vw -r VwHelpFiles/pred --quiet\n",
    "print('Start evaluation')\n",
    "print('Validation RMSE:\\t {}'.format(get_rmse('Generated/ytest_1m_user_reg', 'VwHelpFiles/pred')))\n",
    "print('Time:\\t\\t{} seconds'.format(int(time.time() - t_start)))"
   ]
  },
  {
   "cell_type": "code",
   "execution_count": 46,
   "metadata": {},
   "outputs": [
    {
     "name": "stdout",
     "output_type": "stream",
     "text": [
      "Training done - 43 seconds\n",
      "Start evaluation\n",
      "Validation RMSE:\t 1.109155811552204\n",
      "Time:\t\t45 seconds\n"
     ]
    }
   ],
   "source": [
    "t_start = time.time()\n",
    "!vw Generated/train_1m_user_reg.vw -f VwHelpFiles/model --loss_function squared --sgd --learning_rate 0.002 -b 14 --passes 80 --cache_file VwHelpFiles/cache --quiet\n",
    "print('Training done - {0} seconds'.format(int(time.time() - t_start)))\n",
    "! vw -i VwHelpFiles/model -t Generated/test_1m_user_reg.vw -r VwHelpFiles/pred --quiet\n",
    "print('Start evaluation')\n",
    "print('Validation RMSE:\\t {}'.format(get_rmse('Generated/ytest_1m_user_reg', 'VwHelpFiles/pred')))\n",
    "print('Time:\\t\\t{} seconds'.format(int(time.time() - t_start)))"
   ]
  },
  {
   "cell_type": "markdown",
   "metadata": {},
   "source": [
    "**Лучший VW дал 1.109, что серьезно уступает SGD режиму FM**\n",
    "\n",
    "**ALS режим же на данном датасете вообще из другой лиги**"
   ]
  },
  {
   "cell_type": "markdown",
   "metadata": {},
   "source": [
    "\n",
    "\n",
    "# ml-10M100K\n",
    "\n",
    "Сегодня мы многое поняли - например то, что нормировка не бог весть какая хорошая идея.\n",
    "\n",
    "Так что в дальнейшем будем рассматривать ненормированные датасеты.\n",
    "\n",
    "Более того, информация о пользователям нам уже не дана, так что эти фичи исключаются тоже"
   ]
  },
  {
   "cell_type": "code",
   "execution_count": 7,
   "metadata": {},
   "outputs": [
    {
     "name": "stdout",
     "output_type": "stream",
     "text": [
      "load ratings....\n",
      "calculation of monthes....\n",
      "load movies....\n",
      "build genres ohe....\n",
      "join dataframes....\n",
      "users info skipped\n",
      "train/test split...\n",
      "rated movies history skipped\n",
      "preprocessing done....\n"
     ]
    },
    {
     "data": {
      "text/html": [
       "<div>\n",
       "<style scoped>\n",
       "    .dataframe tbody tr th:only-of-type {\n",
       "        vertical-align: middle;\n",
       "    }\n",
       "\n",
       "    .dataframe tbody tr th {\n",
       "        vertical-align: top;\n",
       "    }\n",
       "\n",
       "    .dataframe thead th {\n",
       "        text-align: right;\n",
       "    }\n",
       "</style>\n",
       "<table border=\"1\" class=\"dataframe\">\n",
       "  <thead>\n",
       "    <tr style=\"text-align: right;\">\n",
       "      <th></th>\n",
       "      <th>user</th>\n",
       "      <th>movie</th>\n",
       "      <th>rating</th>\n",
       "      <th>monthes</th>\n",
       "      <th>genre_0</th>\n",
       "      <th>genre_1</th>\n",
       "      <th>genre_2</th>\n",
       "      <th>genre_3</th>\n",
       "      <th>genre_4</th>\n",
       "      <th>genre_5</th>\n",
       "      <th>...</th>\n",
       "      <th>genre_14</th>\n",
       "      <th>genre_15</th>\n",
       "      <th>genre_16</th>\n",
       "      <th>genre_17</th>\n",
       "      <th>genre_18</th>\n",
       "      <th>genre_19</th>\n",
       "      <th>genre_20</th>\n",
       "      <th>genre_21</th>\n",
       "      <th>genre_22</th>\n",
       "      <th>genre_23</th>\n",
       "    </tr>\n",
       "  </thead>\n",
       "  <tbody>\n",
       "    <tr>\n",
       "      <th>1</th>\n",
       "      <td>139</td>\n",
       "      <td>122</td>\n",
       "      <td>3</td>\n",
       "      <td>0.417480</td>\n",
       "      <td>0</td>\n",
       "      <td>0</td>\n",
       "      <td>0</td>\n",
       "      <td>0</td>\n",
       "      <td>1</td>\n",
       "      <td>0</td>\n",
       "      <td>...</td>\n",
       "      <td>0</td>\n",
       "      <td>0</td>\n",
       "      <td>0</td>\n",
       "      <td>0</td>\n",
       "      <td>0</td>\n",
       "      <td>1</td>\n",
       "      <td>0</td>\n",
       "      <td>0</td>\n",
       "      <td>0</td>\n",
       "      <td>0</td>\n",
       "    </tr>\n",
       "    <tr>\n",
       "      <th>4</th>\n",
       "      <td>215</td>\n",
       "      <td>122</td>\n",
       "      <td>4</td>\n",
       "      <td>0.708984</td>\n",
       "      <td>0</td>\n",
       "      <td>0</td>\n",
       "      <td>0</td>\n",
       "      <td>0</td>\n",
       "      <td>1</td>\n",
       "      <td>0</td>\n",
       "      <td>...</td>\n",
       "      <td>0</td>\n",
       "      <td>0</td>\n",
       "      <td>0</td>\n",
       "      <td>0</td>\n",
       "      <td>0</td>\n",
       "      <td>1</td>\n",
       "      <td>0</td>\n",
       "      <td>0</td>\n",
       "      <td>0</td>\n",
       "      <td>0</td>\n",
       "    </tr>\n",
       "    <tr>\n",
       "      <th>5</th>\n",
       "      <td>217</td>\n",
       "      <td>122</td>\n",
       "      <td>3</td>\n",
       "      <td>0.120850</td>\n",
       "      <td>0</td>\n",
       "      <td>0</td>\n",
       "      <td>0</td>\n",
       "      <td>0</td>\n",
       "      <td>1</td>\n",
       "      <td>0</td>\n",
       "      <td>...</td>\n",
       "      <td>0</td>\n",
       "      <td>0</td>\n",
       "      <td>0</td>\n",
       "      <td>0</td>\n",
       "      <td>0</td>\n",
       "      <td>1</td>\n",
       "      <td>0</td>\n",
       "      <td>0</td>\n",
       "      <td>0</td>\n",
       "      <td>0</td>\n",
       "    </tr>\n",
       "    <tr>\n",
       "      <th>6</th>\n",
       "      <td>281</td>\n",
       "      <td>122</td>\n",
       "      <td>3</td>\n",
       "      <td>0.120850</td>\n",
       "      <td>0</td>\n",
       "      <td>0</td>\n",
       "      <td>0</td>\n",
       "      <td>0</td>\n",
       "      <td>1</td>\n",
       "      <td>0</td>\n",
       "      <td>...</td>\n",
       "      <td>0</td>\n",
       "      <td>0</td>\n",
       "      <td>0</td>\n",
       "      <td>0</td>\n",
       "      <td>0</td>\n",
       "      <td>1</td>\n",
       "      <td>0</td>\n",
       "      <td>0</td>\n",
       "      <td>0</td>\n",
       "      <td>0</td>\n",
       "    </tr>\n",
       "    <tr>\n",
       "      <th>7</th>\n",
       "      <td>326</td>\n",
       "      <td>122</td>\n",
       "      <td>3</td>\n",
       "      <td>0.109863</td>\n",
       "      <td>0</td>\n",
       "      <td>0</td>\n",
       "      <td>0</td>\n",
       "      <td>0</td>\n",
       "      <td>1</td>\n",
       "      <td>0</td>\n",
       "      <td>...</td>\n",
       "      <td>0</td>\n",
       "      <td>0</td>\n",
       "      <td>0</td>\n",
       "      <td>0</td>\n",
       "      <td>0</td>\n",
       "      <td>1</td>\n",
       "      <td>0</td>\n",
       "      <td>0</td>\n",
       "      <td>0</td>\n",
       "      <td>0</td>\n",
       "    </tr>\n",
       "  </tbody>\n",
       "</table>\n",
       "<p>5 rows × 28 columns</p>\n",
       "</div>"
      ],
      "text/plain": [
       "   user  movie  rating   monthes  genre_0  genre_1  genre_2  genre_3  genre_4  \\\n",
       "1   139    122       3  0.417480        0        0        0        0        1   \n",
       "4   215    122       4  0.708984        0        0        0        0        1   \n",
       "5   217    122       3  0.120850        0        0        0        0        1   \n",
       "6   281    122       3  0.120850        0        0        0        0        1   \n",
       "7   326    122       3  0.109863        0        0        0        0        1   \n",
       "\n",
       "   genre_5    ...     genre_14  genre_15  genre_16  genre_17  genre_18  \\\n",
       "1        0    ...            0         0         0         0         0   \n",
       "4        0    ...            0         0         0         0         0   \n",
       "5        0    ...            0         0         0         0         0   \n",
       "6        0    ...            0         0         0         0         0   \n",
       "7        0    ...            0         0         0         0         0   \n",
       "\n",
       "   genre_19  genre_20  genre_21  genre_22  genre_23  \n",
       "1         1         0         0         0         0  \n",
       "4         1         0         0         0         0  \n",
       "5         1         0         0         0         0  \n",
       "6         1         0         0         0         0  \n",
       "7         1         0         0         0         0  \n",
       "\n",
       "[5 rows x 28 columns]"
      ]
     },
     "execution_count": 7,
     "metadata": {},
     "output_type": "execute_result"
    }
   ],
   "source": [
    "folder = 'SourceData/ml-10M100K/'\n",
    "test_size = 0.25\n",
    "train, test = build_movielens(\n",
    "    folder, test_size, with_genres=True,\n",
    "    with_users_info=False, with_rated_movies=False)\n",
    "train.head()"
   ]
  },
  {
   "cell_type": "code",
   "execution_count": 34,
   "metadata": {},
   "outputs": [
    {
     "name": "stderr",
     "output_type": "stream",
     "text": [
      "100%|██████████| 7500041/7500041 [38:31<00:00, 3245.04it/s]\n",
      "100%|██████████| 2500013/2500013 [12:24<00:00, 3357.47it/s]\n"
     ]
    },
    {
     "name": "stdout",
     "output_type": "stream",
     "text": [
      "3 139:1 71690:1 136702:0.4 136707:1 136722:1 \n",
      "4 215:1 71690:1 136702:0.7 136707:1 136722:1 \n",
      "3 217:1 71690:1 136702:0.1 136707:1 136722:1 \n"
     ]
    }
   ],
   "source": [
    "field_info = get_offset_stats(train, test)\n",
    "train2format(train, fm_extractor, field_info, 'Generated/train_10m_reg.fm',)\n",
    "test2format(\n",
    "    test, fm_extractor, field_info,\n",
    "    'Generated/test_10m_reg.fm',\n",
    "    'Generated/ytest_10m_reg'\n",
    ")\n",
    "!head -n 3 Generated/train_10m_reg.fm"
   ]
  },
  {
   "cell_type": "markdown",
   "metadata": {},
   "source": [
    "### Найдем порядок хорошего learning rate"
   ]
  },
  {
   "cell_type": "code",
   "execution_count": 36,
   "metadata": {},
   "outputs": [
    {
     "name": "stdout",
     "output_type": "stream",
     "text": [
      "Preprocessing\n",
      "Processed 7500041 rows\n",
      "Target from 0 to 5\n",
      "Max feature index is 136726\n",
      "Preprocessing\n",
      "Processed 2500013 rows\n",
      "Target from 0 to 5\n",
      "Max feature index is 136726\n",
      "iter=0 Train=1.14542 Test=1.14962\n",
      "iter=1 Train=1.09418 Test=1.10123\n",
      "iter=2 Train=1.07929 Test=1.08916\n",
      "iter=3 Train=1.07324 Test=1.08581\n",
      "iter=4 Train=1.07011 Test=1.08503\n",
      "Time:\t\t1230 seconds\n"
     ]
    }
   ],
   "source": [
    "t_start = time.time()\n",
    "!./FM --bias true --linear true --task_type regression -t Generated/train_10m_reg.fm -e Generated/test_10m_reg.fm \\\n",
    "    --learning_rate 0.01 --learning_method SGD --hash_size -1 -g inplace -i 5\n",
    "print('Time:\\t\\t{} seconds'.format(int(time.time() - t_start)))"
   ]
  },
  {
   "cell_type": "code",
   "execution_count": 37,
   "metadata": {},
   "outputs": [
    {
     "name": "stdout",
     "output_type": "stream",
     "text": [
      "Preprocessing\n",
      "Processed 7500041 rows\n",
      "Target from 0 to 5\n",
      "Max feature index is 136726\n",
      "Preprocessing\n",
      "Processed 2500013 rows\n",
      "Target from 0 to 5\n",
      "Max feature index is 136726\n",
      "iter=0 Train=1.15223 Test=1.15402\n",
      "iter=1 Train=1.11143 Test=1.11475\n",
      "iter=2 Train=1.09046 Test=1.09506\n",
      "iter=3 Train=1.07533 Test=1.08097\n",
      "iter=4 Train=1.06291 Test=1.06942\n",
      "Time:\t\t1314 seconds\n"
     ]
    }
   ],
   "source": [
    "t_start = time.time()\n",
    "!./FM --bias true --linear true --task_type regression -t Generated/train_10m_reg.fm -e Generated/test_10m_reg.fm \\\n",
    "    --learning_rate 0.001 --learning_method SGD --hash_size -1 -g inplace -i 5\n",
    "print('Time:\\t\\t{} seconds'.format(int(time.time() - t_start)))"
   ]
  },
  {
   "cell_type": "code",
   "execution_count": 42,
   "metadata": {},
   "outputs": [
    {
     "name": "stdout",
     "output_type": "stream",
     "text": [
      "Preprocessing\n",
      "Processed 7500041 rows\n",
      "Target from 0 to 5\n",
      "Max feature index is 136726\n",
      "Preprocessing\n",
      "Processed 2500013 rows\n",
      "Target from 0 to 5\n",
      "Max feature index is 136726\n",
      "iter=0 Train=1.1351 Test=1.13817\n",
      "iter=1 Train=1.10296 Test=1.10807\n",
      "iter=2 Train=1.086 Test=1.09274\n",
      "iter=3 Train=1.07706 Test=1.08515\n",
      "iter=4 Train=1.07759 Test=1.08684\n",
      "Time:\t\t1151 seconds\n"
     ]
    }
   ],
   "source": [
    "t_start = time.time()\n",
    "!./FM --bias true --linear true --task_type regression -t Generated/train_10m_reg.fm -e Generated/test_10m_reg.fm \\\n",
    "    --learning_rate 0.003 --learning_method SGD --hash_size -1 -g inplace -i 5\n",
    "print('Time:\\t\\t{} seconds'.format(int(time.time() - t_start)))"
   ]
  },
  {
   "cell_type": "markdown",
   "metadata": {},
   "source": [
    "### Попробуем с регуляризацией"
   ]
  },
  {
   "cell_type": "code",
   "execution_count": 38,
   "metadata": {},
   "outputs": [
    {
     "name": "stdout",
     "output_type": "stream",
     "text": [
      "Preprocessing\n",
      "Processed 7500041 rows\n",
      "Target from 0 to 5\n",
      "Max feature index is 136726\n",
      "Preprocessing\n",
      "Processed 2500013 rows\n",
      "Target from 0 to 5\n",
      "Max feature index is 136726\n",
      "iter=0 Train=1.15646 Test=1.15784\n",
      "iter=1 Train=1.094 Test=1.09629\n",
      "iter=2 Train=1.06581 Test=1.06888\n",
      "iter=3 Train=1.05545 Test=1.05912\n",
      "iter=4 Train=1.05259 Test=1.05676\n",
      "Time:\t\t1147 seconds\n"
     ]
    }
   ],
   "source": [
    "t_start = time.time()\n",
    "!./FM --bias true --linear true --task_type regression -t Generated/train_10m_reg.fm -e Generated/test_10m_reg.fm \\\n",
    "    --learning_rate 0.001 --regularization_const 0.01 --learning_method SGD --hash_size -1 -g inplace -i 5\n",
    "print('Time:\\t\\t{} seconds'.format(int(time.time() - t_start)))"
   ]
  },
  {
   "cell_type": "markdown",
   "metadata": {},
   "source": [
    "### Без парных взаимодействий"
   ]
  },
  {
   "cell_type": "code",
   "execution_count": 15,
   "metadata": {},
   "outputs": [
    {
     "name": "stdout",
     "output_type": "stream",
     "text": [
      "Preprocessing\n",
      "Processed 7500041 rows\n",
      "Target from 0 to 5\n",
      "Max feature index is 136726\n",
      "Preprocessing\n",
      "Processed 2500013 rows\n",
      "Target from 0 to 5\n",
      "Max feature index is 136726\n",
      "iter=0 Train=1.16671 Test=1.16795\n",
      "iter=1 Train=1.10823 Test=1.11014\n",
      "iter=2 Train=1.07654 Test=1.079\n",
      "iter=3 Train=1.05848 Test=1.06141\n",
      "iter=4 Train=1.04788 Test=1.05121\n",
      "Time:\t\t719 seconds\n"
     ]
    }
   ],
   "source": [
    "t_start = time.time()\n",
    "!./FM --bias true --linear true --pairwise 0 --task_type regression -t Generated/train_10m_reg.fm -e Generated/test_10m_reg.fm \\\n",
    "    --learning_rate 0.001 --regularization_const 0.01 --learning_method SGD --hash_size -1 -g inplace -i 5\n",
    "print('Time:\\t\\t{} seconds'.format(int(time.time() - t_start)))"
   ]
  },
  {
   "cell_type": "markdown",
   "metadata": {},
   "source": [
    "### И с хэшинг триком\n",
    "\n",
    "Регуляризацию стало возможным ослабить, ведь и сам прием имеет некоторый такой эффект"
   ]
  },
  {
   "cell_type": "code",
   "execution_count": 43,
   "metadata": {},
   "outputs": [
    {
     "name": "stdout",
     "output_type": "stream",
     "text": [
      "Preprocessing\n",
      "Processed 7500041 rows\n",
      "Target from 0 to 5\n",
      "Max feature index is 31999\n",
      "Preprocessing\n",
      "Processed 2500013 rows\n",
      "Target from 0 to 5\n",
      "Max feature index is 31999\n",
      "iter=0 Train=1.20627 Test=1.2074\n",
      "iter=1 Train=1.18537 Test=1.18677\n",
      "iter=2 Train=1.18037 Test=1.18194\n",
      "iter=3 Train=1.18114 Test=1.1829\n",
      "iter=4 Train=1.18496 Test=1.18696\n",
      "Time:\t\t1418 seconds\n"
     ]
    }
   ],
   "source": [
    "t_start = time.time()\n",
    "!./FM --bias true --linear true --task_type regression -t Generated/train_10m_reg.fm -e Generated/test_10m_reg.fm \\\n",
    "    --learning_rate 0.001 --regularization_const 0.01 --learning_method SGD --hash_size 32000 -g inplace -i 5\n",
    "print('Time:\\t\\t{} seconds'.format(int(time.time() - t_start)))"
   ]
  },
  {
   "cell_type": "code",
   "execution_count": 45,
   "metadata": {},
   "outputs": [
    {
     "name": "stdout",
     "output_type": "stream",
     "text": [
      "Preprocessing\n",
      "Processed 7500041 rows\n",
      "Target from 0 to 5\n",
      "Max feature index is 31999\n",
      "Preprocessing\n",
      "Processed 2500013 rows\n",
      "Target from 0 to 5\n",
      "Max feature index is 31999\n",
      "iter=0 Train=1.21645 Test=1.21701\n",
      "iter=1 Train=1.19453 Test=1.1952\n",
      "iter=2 Train=1.17971 Test=1.18049\n",
      "iter=3 Train=1.16881 Test=1.16969\n",
      "iter=4 Train=1.16034 Test=1.16132\n",
      "Time:\t\t1406 seconds\n"
     ]
    }
   ],
   "source": [
    "t_start = time.time()\n",
    "!./FM --bias true --linear true --task_type regression -t Generated/train_10m_reg.fm -e Generated/test_10m_reg.fm \\\n",
    "    --learning_rate 0.0001 --regularization_const 0.0001 --learning_method SGD --hash_size 32000 -g inplace -i 5\n",
    "print('Time:\\t\\t{} seconds'.format(int(time.time() - t_start)))"
   ]
  },
  {
   "cell_type": "markdown",
   "metadata": {},
   "source": [
    "### ALS\n",
    "\n",
    "На ALS с честными фичами без хэшинг трика запускать мне страшно\n",
    "\n",
    "Так что будем постепенно увеличивать число значений хэш функции "
   ]
  },
  {
   "cell_type": "code",
   "execution_count": 46,
   "metadata": {},
   "outputs": [
    {
     "name": "stdout",
     "output_type": "stream",
     "text": [
      "Preprocessing\n",
      "Processed 7500041 rows\n",
      "Target from 0 to 5\n",
      "Max feature index is 15999\n",
      "Preprocessing\n",
      "Processed 2500013 rows\n",
      "Target from 0 to 5\n",
      "Max feature index is 15999\n",
      "iter=0 Train=1.00607 Test=1.0069\n",
      "iter=1 Train=1.00037 Test=1.00121\n",
      "iter=2 Train=0.998275 Test=0.999098\n",
      "iter=3 Train=0.996887 Test=0.9977\n",
      "iter=4 Train=0.99592 Test=0.996725\n",
      "Time:\t\t791 seconds\n"
     ]
    }
   ],
   "source": [
    "t_start = time.time()\n",
    "!./FM --bias true --linear true --task_type regression -t Generated/train_10m_reg.fm -e Generated/test_10m_reg.fm \\\n",
    "   --pairwise 0 --regularization_const 0.0001 --learning_method ALS --hash_size 16000 -g memory -i 5\n",
    "print('Time:\\t\\t{} seconds'.format(int(time.time() - t_start)))"
   ]
  },
  {
   "cell_type": "code",
   "execution_count": 8,
   "metadata": {},
   "outputs": [
    {
     "name": "stdout",
     "output_type": "stream",
     "text": [
      "Preprocessing\n",
      "Processed 7500041 rows\n",
      "Target from 0 to 5\n",
      "Max feature index is 31999\n",
      "Preprocessing\n",
      "Processed 2500013 rows\n",
      "Target from 0 to 5\n",
      "Max feature index is 31999\n",
      "iter=0 Train=0.980275 Test=0.981755\n",
      "iter=1 Train=0.974717 Test=0.976171\n",
      "iter=2 Train=0.972991 Test=0.974422\n",
      "iter=3 Train=0.971827 Test=0.97324\n",
      "iter=4 Train=0.970968 Test=0.972368\n",
      "iter=5 Train=0.970318 Test=0.971708\n",
      "iter=6 Train=0.969821 Test=0.971202\n",
      "iter=7 Train=0.969439 Test=0.970813\n",
      "iter=8 Train=0.969144 Test=0.970513\n",
      "iter=9 Train=0.968916 Test=0.97028\n",
      "Time:\t\t1596 seconds\n"
     ]
    }
   ],
   "source": [
    "t_start = time.time()\n",
    "!./FM --bias true --linear true --task_type regression -t Generated/train_10m_reg.fm -e Generated/test_10m_reg.fm \\\n",
    "   --pairwise 0 --regularization_const 0.0001 --learning_method ALS --hash_size 32000 -g memory -i 10\n",
    "print('Time:\\t\\t{} seconds'.format(int(time.time() - t_start)))"
   ]
  },
  {
   "cell_type": "code",
   "execution_count": 9,
   "metadata": {},
   "outputs": [
    {
     "name": "stdout",
     "output_type": "stream",
     "text": [
      "Preprocessing\n",
      "Processed 7500041 rows\n",
      "Target from 0 to 5\n",
      "Max feature index is 63999\n",
      "Preprocessing\n",
      "Processed 2500013 rows\n",
      "Target from 0 to 5\n",
      "Max feature index is 63999\n",
      "iter=0 Train=0.953901 Test=0.957139\n",
      "iter=1 Train=0.947997 Test=0.951252\n",
      "iter=2 Train=0.946475 Test=0.949724\n",
      "iter=3 Train=0.94545 Test=0.94869\n",
      "iter=4 Train=0.944681 Test=0.947911\n",
      "iter=5 Train=0.944073 Test=0.947293\n",
      "iter=6 Train=0.94358 Test=0.946791\n",
      "iter=7 Train=0.943175 Test=0.946378\n",
      "iter=8 Train=0.942841 Test=0.946035\n",
      "iter=9 Train=0.942563 Test=0.94575\n",
      "Time:\t\t1497 seconds\n"
     ]
    }
   ],
   "source": [
    "t_start = time.time()\n",
    "!./FM --bias true --linear true --task_type regression -t Generated/train_10m_reg.fm -e Generated/test_10m_reg.fm \\\n",
    "   --pairwise 0 --regularization_const 0.0001 --learning_method ALS --hash_size 64000 -g memory -i 10\n",
    "print('Time:\\t\\t{} seconds'.format(int(time.time() - t_start)))"
   ]
  },
  {
   "cell_type": "code",
   "execution_count": 8,
   "metadata": {},
   "outputs": [
    {
     "name": "stdout",
     "output_type": "stream",
     "text": [
      "Preprocessing\n",
      "Processed 7500041 rows\n",
      "Target from 0 to 5\n",
      "Max feature index is 136726\n",
      "Preprocessing\n",
      "Processed 2500013 rows\n",
      "Target from 0 to 5\n",
      "Max feature index is 136726\n",
      "iter=0 Train=0.897143 Test=0.90701\n",
      "iter=1 Train=0.880088 Test=0.889907\n",
      "iter=2 Train=0.879318 Test=0.889137\n",
      "iter=3 Train=0.879249 Test=0.889064\n",
      "iter=4 Train=0.87923 Test=0.889042\n",
      "^C\n",
      "Time:\t\t867 seconds\n"
     ]
    }
   ],
   "source": [
    "t_start = time.time()\n",
    "!./FM --bias true --linear true --task_type regression -t Generated/train_10m_reg.fm -e Generated/test_10m_reg.fm \\\n",
    "   --pairwise 0 --regularization_const 0.001 --learning_method ALS --hash_size -1 -g memory -i 10\n",
    "print('Time:\\t\\t{} seconds'.format(int(time.time() - t_start)))"
   ]
  },
  {
   "cell_type": "markdown",
   "metadata": {},
   "source": [
    "### Добавим парные взаимодействия"
   ]
  },
  {
   "cell_type": "code",
   "execution_count": 7,
   "metadata": {},
   "outputs": [
    {
     "name": "stdout",
     "output_type": "stream",
     "text": [
      "Preprocessing\n",
      "Processed 7500041 rows\n",
      "Target from 0 to 5\n",
      "Max feature index is 63999\n",
      "Preprocessing\n",
      "Processed 2500013 rows\n",
      "Target from 0 to 5\n",
      "Max feature index is 63999\n",
      "iter=0 Train=0.929394 Test=0.943071\n",
      "iter=1 Train=0.914353 Test=0.930317\n",
      "iter=2 Train=0.907857 Test=0.924378\n",
      "iter=3 Train=0.904354 Test=0.921056\n",
      "iter=4 Train=0.902118 Test=0.918904\n",
      "Time:\t\t4485 seconds\n"
     ]
    }
   ],
   "source": [
    "t_start = time.time()\n",
    "!./FM --bias true --linear true --task_type regression -t Generated/train_10m_reg.fm -e Generated/test_10m_reg.fm \\\n",
    "   --pairwise 4 --regularization_const 0.0001 --learning_method ALS --hash_size 64000 -g memory -i 5\n",
    "print('Time:\\t\\t{} seconds'.format(int(time.time() - t_start)))"
   ]
  },
  {
   "cell_type": "code",
   "execution_count": 9,
   "metadata": {},
   "outputs": [
    {
     "name": "stdout",
     "output_type": "stream",
     "text": [
      "Preprocessing\n",
      "Processed 7500041 rows\n",
      "Target from 0 to 5\n",
      "Max feature index is 136726\n",
      "Preprocessing\n",
      "Processed 2500013 rows\n",
      "Target from 0 to 5\n",
      "Max feature index is 136726\n",
      "iter=0 Train=0.853279 Test=0.895358\n",
      "iter=1 Train=0.823272 Test=0.872093\n",
      "iter=2 Train=0.809276 Test=0.860907\n",
      "iter=3 Train=0.802292 Test=0.855558\n",
      "iter=4 Train=0.798409 Test=0.85273\n",
      "Time:\t\t3380 seconds\n"
     ]
    }
   ],
   "source": [
    "t_start = time.time()\n",
    "!./FM --bias true --linear true --task_type regression -t Generated/train_10m_reg.fm -e Generated/test_10m_reg.fm \\\n",
    "   --pairwise 4 --regularization_const 0.0001 --learning_method ALS --hash_size -1 -g memory -i 5\n",
    "print('Time:\\t\\t{} seconds'.format(int(time.time() - t_start)))"
   ]
  },
  {
   "cell_type": "markdown",
   "metadata": {},
   "source": [
    "**В очередной раз ALS с парными фичами оставляет далеко позади остальные алгоритмы**"
   ]
  },
  {
   "cell_type": "markdown",
   "metadata": {},
   "source": [
    "## Vowpal Wabbit\n",
    "\n",
    "Приведем данные к vw формату"
   ]
  },
  {
   "cell_type": "code",
   "execution_count": 3,
   "metadata": {},
   "outputs": [
    {
     "name": "stderr",
     "output_type": "stream",
     "text": [
      "7500041it [00:06, 1246628.29it/s]\n",
      "2500013it [00:02, 1111723.69it/s]\n"
     ]
    }
   ],
   "source": [
    "fm2vw('Generated/train_10m_reg.fm', 'Generated/train_10m_reg.vw')\n",
    "fm2vw('Generated/test_10m_reg.fm', 'Generated/test_10m_reg.vw')"
   ]
  },
  {
   "cell_type": "code",
   "execution_count": 31,
   "metadata": {},
   "outputs": [
    {
     "name": "stdout",
     "output_type": "stream",
     "text": [
      "Training done - 41 seconds\n",
      "Start evaluation\n",
      "Validation RMSE:\t 1.1104841255494076\n",
      "Time:\t\t60 seconds\n"
     ]
    }
   ],
   "source": [
    "t_start = time.time()\n",
    "!vw Generated/train_10m_reg.vw -f VwHelpFiles/model --loss_function squared --sgd --learning_rate 0.01 -b 18 --passes 5 --cache_file VwHelpFiles/cache --quiet\n",
    "print('Training done - {0} seconds'.format(int(time.time() - t_start)))\n",
    "! vw -i VwHelpFiles/model -t Generated/test_10m_reg.vw -r VwHelpFiles/pred --quiet\n",
    "!rm VwHelpFiles/model\n",
    "!rm VwHelpFiles/cache\n",
    "print('Start evaluation')\n",
    "print('Validation RMSE:\\t {}'.format(get_rmse('Generated/ytest_10m_reg', 'VwHelpFiles/pred')))\n",
    "print('Time:\\t\\t{} seconds'.format(int(time.time() - t_start)))"
   ]
  },
  {
   "cell_type": "code",
   "execution_count": 37,
   "metadata": {},
   "outputs": [
    {
     "name": "stdout",
     "output_type": "stream",
     "text": [
      "Training done - 41 seconds\n",
      "Start evaluation\n",
      "Validation RMSE:\t 1.093433365227215\n",
      "Time:\t\t61 seconds\n"
     ]
    }
   ],
   "source": [
    "t_start = time.time()\n",
    "!vw Generated/train_10m_reg.vw -f VwHelpFiles/model --loss_function squared --sgd --learning_rate 0.001 -b 18 --passes 5 --cache_file VwHelpFiles/cache --quiet\n",
    "print('Training done - {0} seconds'.format(int(time.time() - t_start)))\n",
    "! vw -i VwHelpFiles/model -t Generated/test_10m_reg.vw -r VwHelpFiles/pred --quiet\n",
    "!rm VwHelpFiles/model\n",
    "!rm VwHelpFiles/cache\n",
    "print('Start evaluation')\n",
    "print('Validation RMSE:\\t {}'.format(get_rmse('Generated/ytest_10m_reg', 'VwHelpFiles/pred')))\n",
    "print('Time:\\t\\t{} seconds'.format(int(time.time() - t_start)))"
   ]
  },
  {
   "cell_type": "code",
   "execution_count": 38,
   "metadata": {},
   "outputs": [
    {
     "name": "stdout",
     "output_type": "stream",
     "text": [
      "Training done - 83 seconds\n",
      "Start evaluation\n",
      "Validation RMSE:\t 1.0729906582802802\n",
      "Time:\t\t103 seconds\n"
     ]
    }
   ],
   "source": [
    "t_start = time.time()\n",
    "!vw Generated/train_10m_reg.vw -f VwHelpFiles/model --loss_function squared --sgd --learning_rate 0.001 -b 18 --passes 10 --cache_file VwHelpFiles/cache --quiet\n",
    "print('Training done - {0} seconds'.format(int(time.time() - t_start)))\n",
    "! vw -i VwHelpFiles/model -t Generated/test_10m_reg.vw -r VwHelpFiles/pred --quiet\n",
    "!rm VwHelpFiles/model\n",
    "!rm VwHelpFiles/cache\n",
    "print('Start evaluation')\n",
    "print('Validation RMSE:\\t {}'.format(get_rmse('Generated/ytest_10m_reg', 'VwHelpFiles/pred')))\n",
    "print('Time:\\t\\t{} seconds'.format(int(time.time() - t_start)))"
   ]
  },
  {
   "cell_type": "code",
   "execution_count": 2,
   "metadata": {},
   "outputs": [
    {
     "name": "stdout",
     "output_type": "stream",
     "text": [
      "Training done - 48 seconds\n",
      "Start evaluation\n",
      "Validation RMSE:\t 0.9868549151497806\n",
      "Time:\t\t71 seconds\n"
     ]
    }
   ],
   "source": [
    "t_start = time.time()\n",
    "!vw Generated/train_10m_reg.vw -f VwHelpFiles/model --loss_function squared --learning_rate 0.01 -b 18 --passes 5 --cache_file VwHelpFiles/cache --quiet\n",
    "print('Training done - {0} seconds'.format(int(time.time() - t_start)))\n",
    "! vw -i VwHelpFiles/model -t Generated/test_10m_reg.vw -r VwHelpFiles/pred --quiet\n",
    "!rm VwHelpFiles/model\n",
    "!rm VwHelpFiles/cache\n",
    "print('Start evaluation')\n",
    "print('Validation RMSE:\\t {}'.format(get_rmse('Generated/ytest_10m_reg', 'VwHelpFiles/pred')))\n",
    "print('Time:\\t\\t{} seconds'.format(int(time.time() - t_start)))"
   ]
  },
  {
   "cell_type": "code",
   "execution_count": 5,
   "metadata": {},
   "outputs": [
    {
     "name": "stdout",
     "output_type": "stream",
     "text": [
      "Training done - 87 seconds\n",
      "Start evaluation\n",
      "Validation RMSE:\t 0.9586356933058612\n",
      "Time:\t\t107 seconds\n"
     ]
    }
   ],
   "source": [
    "t_start = time.time()\n",
    "!vw Generated/train_10m_reg.vw -f VwHelpFiles/model --loss_function squared --learning_rate 0.01 -b 18 --passes 10 --cache_file VwHelpFiles/cache --quiet\n",
    "print('Training done - {0} seconds'.format(int(time.time() - t_start)))\n",
    "! vw -i VwHelpFiles/model -t Generated/test_10m_reg.vw -r VwHelpFiles/pred --quiet\n",
    "!rm VwHelpFiles/model\n",
    "!rm VwHelpFiles/cache\n",
    "print('Start evaluation')\n",
    "print('Validation RMSE:\\t {}'.format(get_rmse('Generated/ytest_10m_reg', 'VwHelpFiles/pred')))\n",
    "!rm VwHelpFiles/pred\n",
    "print('Time:\\t\\t{} seconds'.format(int(time.time() - t_start)))"
   ]
  },
  {
   "cell_type": "code",
   "execution_count": 7,
   "metadata": {},
   "outputs": [
    {
     "name": "stdout",
     "output_type": "stream",
     "text": [
      "Training done - 706 seconds\n",
      "Start evaluation\n",
      "Validation RMSE:\t 0.9089684082685677\n",
      "Time:\t\t728 seconds\n"
     ]
    }
   ],
   "source": [
    "t_start = time.time()\n",
    "!vw Generated/train_10m_reg.vw -f VwHelpFiles/model --loss_function squared --learning_rate 0.01 -b 18 --passes 80 --cache_file VwHelpFiles/cache --quiet\n",
    "print('Training done - {0} seconds'.format(int(time.time() - t_start)))\n",
    "! vw -i VwHelpFiles/model -t Generated/test_10m_reg.vw -r VwHelpFiles/pred --quiet\n",
    "!rm VwHelpFiles/model\n",
    "!rm VwHelpFiles/cache\n",
    "print('Start evaluation')\n",
    "print('Validation RMSE:\\t {}'.format(get_rmse('Generated/ytest_10m_reg', 'VwHelpFiles/pred')))\n",
    "!rm VwHelpFiles/pred\n",
    "print('Time:\\t\\t{} seconds'.format(int(time.time() - t_start)))"
   ]
  },
  {
   "cell_type": "markdown",
   "metadata": {},
   "source": [
    "# 10M Classification\n",
    "\n",
    "### Разделим все фильмы на условно **хорошие**(4-5) и **плохие**(1-3)"
   ]
  },
  {
   "cell_type": "code",
   "execution_count": 14,
   "metadata": {},
   "outputs": [
    {
     "name": "stderr",
     "output_type": "stream",
     "text": [
      "7500041it [00:10, 696628.35it/s]\n",
      "2500013it [00:03, 647881.75it/s]"
     ]
    },
    {
     "name": "stdout",
     "output_type": "stream",
     "text": [
      "0 139:1 71690:1 136702:0.4 136707:1 136722:1 \n",
      "1 215:1 71690:1 136702:0.7 136707:1 136722:1 \n",
      "0 217:1 71690:1 136702:0.1 136707:1 136722:1 \n"
     ]
    },
    {
     "name": "stderr",
     "output_type": "stream",
     "text": [
      "\n"
     ]
    }
   ],
   "source": [
    "reg2fm('Generated/train_10m_reg.fm', 'Generated/train_10m_class.fm')\n",
    "reg2fm('Generated/test_10m_reg.fm', 'Generated/test_10m_class.fm')\n",
    "\n",
    "!head -n 3 Generated/train_10m_class.fm"
   ]
  },
  {
   "cell_type": "code",
   "execution_count": 19,
   "metadata": {},
   "outputs": [
    {
     "name": "stdout",
     "output_type": "stream",
     "text": [
      "1 65480:1 71924:1 136702:0.6 136707:1 136710:1 136722:1 136725:1 \n",
      "1 35098:1 72656:1 136702:0.4 136710:1 136718:1 136722:1 \n",
      "1 71509:1 78636:1 136702:1e+00 136710:1 136719:1 136722:1 \n"
     ]
    }
   ],
   "source": [
    "!head -n 3 Generated/test_10m_class.fm"
   ]
  },
  {
   "cell_type": "markdown",
   "metadata": {},
   "source": [
    "### FM SGD"
   ]
  },
  {
   "cell_type": "code",
   "execution_count": 11,
   "metadata": {},
   "outputs": [
    {
     "name": "stdout",
     "output_type": "stream",
     "text": [
      "Preprocessing\n",
      "Processed 7500041 rows\n",
      "Target from 0 to 5\n",
      "Max feature index is 136726\n",
      "Preprocessing\n",
      "Processed 2500013 rows\n",
      "Target from 0 to 5\n",
      "Max feature index is 136726\n",
      "iter=0 Train=4.95061 Test=4.95079\n",
      "iter=1 Train=2.76833 Test=2.76839\n",
      "iter=2 Train=1.50514 Test=1.50513\n",
      "iter=3 Train=0.58781 Test=0.58778\n",
      "Time:\t\t641 seconds\n"
     ]
    }
   ],
   "source": [
    "t_start = time.time()\n",
    "!./FM --bias true --linear true --task_type classification -t Generated/train_10m_reg.fm -e Generated/test_10m_reg.fm \\\n",
    "   --learning_rate 0.00000001 --pairwise 0 --regularization_const 0.001 --learning_method SGD --hash_size -1 -g inplace -i 4\n",
    "print('Time:\\t\\t{} seconds'.format(int(time.time() - t_start)))"
   ]
  },
  {
   "cell_type": "code",
   "execution_count": 12,
   "metadata": {},
   "outputs": [
    {
     "name": "stdout",
     "output_type": "stream",
     "text": [
      "Preprocessing\n",
      "Processed 7500041 rows\n",
      "Target from 0 to 5\n",
      "Max feature index is 31999\n",
      "Preprocessing\n",
      "Processed 2500013 rows\n",
      "Target from 0 to 5\n",
      "Max feature index is 31999\n",
      "iter=0 Train=4.94939 Test=4.94955\n",
      "iter=1 Train=2.76714 Test=2.76718\n",
      "iter=2 Train=1.50393 Test=1.50392\n",
      "iter=3 Train=0.58656 Test=0.586517\n",
      "Time:\t\t860 seconds\n"
     ]
    }
   ],
   "source": [
    "t_start = time.time()\n",
    "!./FM --bias true --linear true --task_type classification -t Generated/train_10m_reg.fm -e Generated/test_10m_reg.fm \\\n",
    "   --learning_rate 0.00000001 --pairwise 0 --regularization_const 0.001 --learning_method SGD --hash_size 32000 -g inplace -i 4\n",
    "print('Time:\\t\\t{} seconds'.format(int(time.time() - t_start)))"
   ]
  },
  {
   "cell_type": "markdown",
   "metadata": {},
   "source": [
    "## VW"
   ]
  },
  {
   "cell_type": "code",
   "execution_count": 5,
   "metadata": {},
   "outputs": [
    {
     "name": "stderr",
     "output_type": "stream",
     "text": [
      "7500041it [00:13, 544168.79it/s]\n",
      "2500013it [00:06, 398136.44it/s]"
     ]
    },
    {
     "name": "stdout",
     "output_type": "stream",
     "text": [
      "-1 | 139:1 71690:1 136702:0.4 136707:1 136722:1 \n",
      "1 | 215:1 71690:1 136702:0.7 136707:1 136722:1 \n",
      "-1 | 217:1 71690:1 136702:0.1 136707:1 136722:1 \n"
     ]
    },
    {
     "name": "stderr",
     "output_type": "stream",
     "text": [
      "\n"
     ]
    }
   ],
   "source": [
    "reg2vw('Generated/train_10m_reg.fm', 'Generated/train_10m_class.vw')\n",
    "reg2vw('Generated/test_10m_reg.fm', 'Generated/test_10m_class.vw')\n",
    "\n",
    "!head -n 3 Generated/train_10m_class.vw"
   ]
  },
  {
   "cell_type": "code",
   "execution_count": 20,
   "metadata": {},
   "outputs": [
    {
     "name": "stderr",
     "output_type": "stream",
     "text": [
      "2500013it [00:02, 867064.31it/s]\n"
     ]
    },
    {
     "name": "stdout",
     "output_type": "stream",
     "text": [
      "1\n",
      "1\n",
      "1\n"
     ]
    }
   ],
   "source": [
    "input_file = open('Generated/ytest_10m_reg',  'r')\n",
    "out_file   = open('Generated/ytest_10m_class', 'w')\n",
    "for line in tqdm(input_file):\n",
    "    target = str((int(line[0]) > 3) * 2 - 1)\n",
    "    out_file.write(target + '\\n')        \n",
    "!head -n 3 Generated/ytest_10m_class"
   ]
  },
  {
   "cell_type": "code",
   "execution_count": 29,
   "metadata": {},
   "outputs": [
    {
     "name": "stdout",
     "output_type": "stream",
     "text": [
      "Training done - 53 seconds\n",
      "Start evaluation\n",
      "Validation logloss:\t 0.6331332680570104\n",
      "Time:\t\t85 seconds\n"
     ]
    }
   ],
   "source": [
    "t_start = time.time()\n",
    "!vw Generated/train_10m_class.vw -f VwHelpFiles/model --loss_function logistic --learning_rate 0.001 -b 18 --passes 5 --cache_file VwHelpFiles/cache --quiet\n",
    "print('Training done - {0} seconds'.format(int(time.time() - t_start)))\n",
    "! vw -i VwHelpFiles/model -t Generated/test_10m_class.vw -r VwHelpFiles/pred --quiet\n",
    "!rm VwHelpFiles/model\n",
    "!rm VwHelpFiles/cache\n",
    "print('Start evaluation')\n",
    "print('Validation logloss:\\t {}'.format(get_log_loss('Generated/ytest_10m_class', 'VwHelpFiles/pred')))\n",
    "print('Time:\\t\\t{} seconds'.format(int(time.time() - t_start)))"
   ]
  },
  {
   "cell_type": "code",
   "execution_count": 24,
   "metadata": {},
   "outputs": [
    {
     "name": "stdout",
     "output_type": "stream",
     "text": [
      "Training done - 215 seconds\n",
      "Start evaluation\n",
      "Validation logloss:\t 0.6176305147942617\n",
      "Time:\t\t246 seconds\n"
     ]
    }
   ],
   "source": [
    "t_start = time.time()\n",
    "!vw Generated/train_10m_class.vw -f VwHelpFiles/model --loss_function logistic --learning_rate 0.001 -b 18 --passes 20 --cache_file VwHelpFiles/cache --quiet\n",
    "print('Training done - {0} seconds'.format(int(time.time() - t_start)))\n",
    "! vw -i VwHelpFiles/model -t Generated/test_10m_class.vw -r VwHelpFiles/pred --quiet\n",
    "!rm VwHelpFiles/model\n",
    "!rm VwHelpFiles/cache\n",
    "print('Start evaluation')\n",
    "print('Validation logloss:\\t {}'.format(get_log_loss('Generated/ytest_10m_class', 'VwHelpFiles/pred')))\n",
    "print('Time:\\t\\t{} seconds'.format(int(time.time() - t_start)))"
   ]
  },
  {
   "cell_type": "code",
   "execution_count": 25,
   "metadata": {},
   "outputs": [
    {
     "name": "stdout",
     "output_type": "stream",
     "text": [
      "Training done - 881 seconds\n",
      "Start evaluation\n",
      "Validation logloss:\t 0.6058598137637439\n",
      "Time:\t\t927 seconds\n"
     ]
    }
   ],
   "source": [
    "t_start = time.time()\n",
    "!vw Generated/train_10m_class.vw -f VwHelpFiles/model --loss_function logistic --learning_rate 0.001 -b 18 --passes 80 --cache_file VwHelpFiles/cache --quiet\n",
    "print('Training done - {0} seconds'.format(int(time.time() - t_start)))\n",
    "! vw -i VwHelpFiles/model -t Generated/test_10m_class.vw -r VwHelpFiles/pred --quiet\n",
    "!rm VwHelpFiles/model\n",
    "!rm VwHelpFiles/cache\n",
    "print('Start evaluation')\n",
    "print('Validation logloss:\\t {}'.format(get_log_loss('Generated/ytest_10m_class', 'VwHelpFiles/pred')))\n",
    "print('Time:\\t\\t{} seconds'.format(int(time.time() - t_start)))"
   ]
  },
  {
   "cell_type": "markdown",
   "metadata": {},
   "source": [
    "# 20M Dataset"
   ]
  },
  {
   "cell_type": "code",
   "execution_count": 2,
   "metadata": {},
   "outputs": [
    {
     "name": "stdout",
     "output_type": "stream",
     "text": [
      "load ratings....\n",
      "calculation of monthes....\n",
      "load movies....\n",
      "build genres ohe....\n",
      "join dataframes....\n",
      "users info skipped\n",
      "train/test split...\n",
      "rated movies history skipped\n",
      "preprocessing done....\n"
     ]
    },
    {
     "data": {
      "text/html": [
       "<div>\n",
       "<style scoped>\n",
       "    .dataframe tbody tr th:only-of-type {\n",
       "        vertical-align: middle;\n",
       "    }\n",
       "\n",
       "    .dataframe tbody tr th {\n",
       "        vertical-align: top;\n",
       "    }\n",
       "\n",
       "    .dataframe thead th {\n",
       "        text-align: right;\n",
       "    }\n",
       "</style>\n",
       "<table border=\"1\" class=\"dataframe\">\n",
       "  <thead>\n",
       "    <tr style=\"text-align: right;\">\n",
       "      <th></th>\n",
       "      <th>user</th>\n",
       "      <th>movie</th>\n",
       "      <th>rating</th>\n",
       "      <th>monthes</th>\n",
       "      <th>genre_0</th>\n",
       "      <th>genre_1</th>\n",
       "      <th>genre_2</th>\n",
       "      <th>genre_3</th>\n",
       "      <th>genre_4</th>\n",
       "      <th>genre_5</th>\n",
       "      <th>...</th>\n",
       "      <th>genre_14</th>\n",
       "      <th>genre_15</th>\n",
       "      <th>genre_16</th>\n",
       "      <th>genre_17</th>\n",
       "      <th>genre_18</th>\n",
       "      <th>genre_19</th>\n",
       "      <th>genre_20</th>\n",
       "      <th>genre_21</th>\n",
       "      <th>genre_22</th>\n",
       "      <th>genre_23</th>\n",
       "    </tr>\n",
       "  </thead>\n",
       "  <tbody>\n",
       "    <tr>\n",
       "      <th>0</th>\n",
       "      <td>1</td>\n",
       "      <td>2</td>\n",
       "      <td>7</td>\n",
       "      <td>0.505859</td>\n",
       "      <td>0</td>\n",
       "      <td>1</td>\n",
       "      <td>0</td>\n",
       "      <td>1</td>\n",
       "      <td>0</td>\n",
       "      <td>0</td>\n",
       "      <td>...</td>\n",
       "      <td>0</td>\n",
       "      <td>0</td>\n",
       "      <td>0</td>\n",
       "      <td>0</td>\n",
       "      <td>0</td>\n",
       "      <td>0</td>\n",
       "      <td>0</td>\n",
       "      <td>0</td>\n",
       "      <td>0</td>\n",
       "      <td>0</td>\n",
       "    </tr>\n",
       "    <tr>\n",
       "      <th>3</th>\n",
       "      <td>29</td>\n",
       "      <td>2</td>\n",
       "      <td>6</td>\n",
       "      <td>0.068420</td>\n",
       "      <td>0</td>\n",
       "      <td>1</td>\n",
       "      <td>0</td>\n",
       "      <td>1</td>\n",
       "      <td>0</td>\n",
       "      <td>0</td>\n",
       "      <td>...</td>\n",
       "      <td>0</td>\n",
       "      <td>0</td>\n",
       "      <td>0</td>\n",
       "      <td>0</td>\n",
       "      <td>0</td>\n",
       "      <td>0</td>\n",
       "      <td>0</td>\n",
       "      <td>0</td>\n",
       "      <td>0</td>\n",
       "      <td>0</td>\n",
       "    </tr>\n",
       "    <tr>\n",
       "      <th>4</th>\n",
       "      <td>34</td>\n",
       "      <td>2</td>\n",
       "      <td>6</td>\n",
       "      <td>0.087463</td>\n",
       "      <td>0</td>\n",
       "      <td>1</td>\n",
       "      <td>0</td>\n",
       "      <td>1</td>\n",
       "      <td>0</td>\n",
       "      <td>0</td>\n",
       "      <td>...</td>\n",
       "      <td>0</td>\n",
       "      <td>0</td>\n",
       "      <td>0</td>\n",
       "      <td>0</td>\n",
       "      <td>0</td>\n",
       "      <td>0</td>\n",
       "      <td>0</td>\n",
       "      <td>0</td>\n",
       "      <td>0</td>\n",
       "      <td>0</td>\n",
       "    </tr>\n",
       "    <tr>\n",
       "      <th>5</th>\n",
       "      <td>54</td>\n",
       "      <td>2</td>\n",
       "      <td>6</td>\n",
       "      <td>0.289062</td>\n",
       "      <td>0</td>\n",
       "      <td>1</td>\n",
       "      <td>0</td>\n",
       "      <td>1</td>\n",
       "      <td>0</td>\n",
       "      <td>0</td>\n",
       "      <td>...</td>\n",
       "      <td>0</td>\n",
       "      <td>0</td>\n",
       "      <td>0</td>\n",
       "      <td>0</td>\n",
       "      <td>0</td>\n",
       "      <td>0</td>\n",
       "      <td>0</td>\n",
       "      <td>0</td>\n",
       "      <td>0</td>\n",
       "      <td>0</td>\n",
       "    </tr>\n",
       "    <tr>\n",
       "      <th>7</th>\n",
       "      <td>91</td>\n",
       "      <td>2</td>\n",
       "      <td>7</td>\n",
       "      <td>0.505859</td>\n",
       "      <td>0</td>\n",
       "      <td>1</td>\n",
       "      <td>0</td>\n",
       "      <td>1</td>\n",
       "      <td>0</td>\n",
       "      <td>0</td>\n",
       "      <td>...</td>\n",
       "      <td>0</td>\n",
       "      <td>0</td>\n",
       "      <td>0</td>\n",
       "      <td>0</td>\n",
       "      <td>0</td>\n",
       "      <td>0</td>\n",
       "      <td>0</td>\n",
       "      <td>0</td>\n",
       "      <td>0</td>\n",
       "      <td>0</td>\n",
       "    </tr>\n",
       "  </tbody>\n",
       "</table>\n",
       "<p>5 rows × 28 columns</p>\n",
       "</div>"
      ],
      "text/plain": [
       "   user  movie  rating   monthes  genre_0  genre_1  genre_2  genre_3  genre_4  \\\n",
       "0     1      2       7  0.505859        0        1        0        1        0   \n",
       "3    29      2       6  0.068420        0        1        0        1        0   \n",
       "4    34      2       6  0.087463        0        1        0        1        0   \n",
       "5    54      2       6  0.289062        0        1        0        1        0   \n",
       "7    91      2       7  0.505859        0        1        0        1        0   \n",
       "\n",
       "   genre_5    ...     genre_14  genre_15  genre_16  genre_17  genre_18  \\\n",
       "0        0    ...            0         0         0         0         0   \n",
       "3        0    ...            0         0         0         0         0   \n",
       "4        0    ...            0         0         0         0         0   \n",
       "5        0    ...            0         0         0         0         0   \n",
       "7        0    ...            0         0         0         0         0   \n",
       "\n",
       "   genre_19  genre_20  genre_21  genre_22  genre_23  \n",
       "0         0         0         0         0         0  \n",
       "3         0         0         0         0         0  \n",
       "4         0         0         0         0         0  \n",
       "5         0         0         0         0         0  \n",
       "7         0         0         0         0         0  \n",
       "\n",
       "[5 rows x 28 columns]"
      ]
     },
     "execution_count": 2,
     "metadata": {},
     "output_type": "execute_result"
    }
   ],
   "source": [
    "folder = 'SourceData/ml-20m/'\n",
    "test_size = 0.25\n",
    "train, test = build_movielens(\n",
    "    folder, test_size, with_genres=True,\n",
    "    with_users_info=False, with_rated_movies=False)\n",
    "train.head()"
   ]
  },
  {
   "cell_type": "code",
   "execution_count": 4,
   "metadata": {},
   "outputs": [
    {
     "name": "stderr",
     "output_type": "stream",
     "text": [
      "100%|██████████| 15000198/15000198 [1:08:29<00:00, 3650.04it/s]\n",
      "100%|██████████| 5000065/5000065 [24:23<00:00, 3416.39it/s]\n"
     ]
    },
    {
     "name": "stdout",
     "output_type": "stream",
     "text": [
      "7 1:1 138496:1 269757:0.5 269759:1 269761:1 269766:1 \n",
      "6 29:1 138496:1 269757:0.07 269759:1 269761:1 269766:1 \n",
      "6 34:1 138496:1 269757:0.09 269759:1 269761:1 269766:1 \n"
     ]
    }
   ],
   "source": [
    "field_info = get_offset_stats(train, test)\n",
    "train2format(train, fm_extractor, field_info, 'Generated/train_20m_reg.fm',)\n",
    "test2format(\n",
    "    test, fm_extractor, field_info,\n",
    "    'Generated/test_20m_reg.fm',\n",
    "    'Generated/ytest_20m_reg'\n",
    ")\n",
    "!head -n 3 Generated/train_20m_reg.fm"
   ]
  },
  {
   "cell_type": "code",
   "execution_count": 3,
   "metadata": {},
   "outputs": [
    {
     "name": "stderr",
     "output_type": "stream",
     "text": [
      "15000198it [00:30, 486734.70it/s]\n",
      "5000065it [00:11, 438827.64it/s]\n",
      "5000065it [00:07, 696166.74it/s]\n"
     ]
    }
   ],
   "source": [
    "# make targets from 1 to 5.5\n",
    "target_transform('Generated/train_20m_reg.fm', 'Generated/train_20m_reg_2.fm')\n",
    "target_transform('Generated/test_20m_reg.fm', 'Generated/test_20m_reg_2.fm')\n",
    "target_transform('Generated/ytest_20m_reg', 'Generated/ytest_20m_reg_2')"
   ]
  },
  {
   "cell_type": "code",
   "execution_count": 25,
   "metadata": {},
   "outputs": [
    {
     "name": "stdout",
     "output_type": "stream",
     "text": [
      "Preprocessing\n",
      "Processed 15000198 rows\n",
      "Target from 1 to 5\n",
      "Max feature index is 269781\n",
      "Preprocessing\n",
      "Processed 5000065 rows\n",
      "Target from 1 to 5\n",
      "Max feature index is 269781\n",
      "iter=0 Train=1.04622 Test=1.04807\n",
      "iter=1 Train=1.00683 Test=1.00975\n",
      "iter=2 Train=1.00094 Test=1.00458\n",
      "iter=3 Train=1.00305 Test=1.00721\n",
      "iter=4 Train=1.00718 Test=1.01176\n",
      "Time:\t\t1459 seconds\n"
     ]
    }
   ],
   "source": [
    "t_start = time.time()\n",
    "!./FM --bias true --linear true --pairwise 0 --task_type regression -t Generated/train_20m_reg_2.fm -e Generated/test_20m_reg_2.fm \\\n",
    "    --learning_rate 0.003 --regularization_const 0.01 --learning_method SGD --hash_size -1 -g inplace -i 5\n",
    "print('Time:\\t\\t{} seconds'.format(int(time.time() - t_start)))"
   ]
  },
  {
   "cell_type": "code",
   "execution_count": 28,
   "metadata": {},
   "outputs": [
    {
     "name": "stdout",
     "output_type": "stream",
     "text": [
      "Preprocessing\n",
      "Processed 15000198 rows\n",
      "Target from 1 to 5\n",
      "Max feature index is 269781\n",
      "Preprocessing\n",
      "Processed 5000065 rows\n",
      "Target from 1 to 5\n",
      "Max feature index is 269781\n",
      "iter=0 Train=1.00771 Test=1.01195\n",
      "iter=1 Train=0.973426 Test=0.980399\n",
      "iter=2 Train=0.968957 Test=0.978308\n",
      "iter=3 Train=0.977346 Test=0.988578\n",
      "iter=4 Train=0.99194 Test=1.00459\n",
      "Time:\t\t2324 seconds\n"
     ]
    }
   ],
   "source": [
    "t_start = time.time()\n",
    "!./FM --bias true --linear true --pairwise 4 --task_type regression -t Generated/train_20m_reg_2.fm -e Generated/test_20m_reg_2.fm \\\n",
    "    --learning_rate 0.01 --regularization_const 0.001 --learning_method SGD --hash_size -1 -g inplace -i 5\n",
    "print('Time:\\t\\t{} seconds'.format(int(time.time() - t_start)))"
   ]
  },
  {
   "cell_type": "code",
   "execution_count": 2,
   "metadata": {},
   "outputs": [
    {
     "name": "stdout",
     "output_type": "stream",
     "text": [
      "Preprocessing\n",
      "Processed 15000198 rows\n",
      "Target from 1 to 5\n",
      "Max feature index is 63999\n",
      "Preprocessing\n",
      "iter=0 Train=0.935272 Test=0.937465\n",
      "Time:\t\t17246 seconds\n"
     ]
    }
   ],
   "source": [
    "t_start = time.time()\n",
    "!./FM --bias true --linear true --task_type regression -t Generated/train_20m_reg_2.fm -e Generated/test_20m_reg_2.fm \\\n",
    "   --pairwise 0 --regularization_const 0.0001 --learning_method ALS --hash_size 64000 -g memory -i 10\n",
    "print('Time:\\t\\t{} seconds'.format(int(time.time() - t_start)))"
   ]
  },
  {
   "cell_type": "markdown",
   "metadata": {},
   "source": [
    "## VW"
   ]
  },
  {
   "cell_type": "code",
   "execution_count": 11,
   "metadata": {},
   "outputs": [
    {
     "name": "stderr",
     "output_type": "stream",
     "text": [
      "15000198it [00:16, 906640.28it/s]\n",
      "5000065it [00:05, 921427.60it/s]\n"
     ]
    },
    {
     "name": "stdout",
     "output_type": "stream",
     "text": [
      "4.0 |  1:1 138496:1 269757:0.5 269759:1 269761:1 269766:1 \n",
      "3.5 |  29:1 138496:1 269757:0.07 269759:1 269761:1 269766:1 \n",
      "3.5 |  34:1 138496:1 269757:0.09 269759:1 269761:1 269766:1 \n"
     ]
    }
   ],
   "source": [
    "fm2vw('Generated/train_20m_reg_2.fm', 'Generated/train_20m_reg.vw', split_pos=3)\n",
    "fm2vw('Generated/test_20m_reg_2.fm', 'Generated/test_20m_reg.vw', split_pos=3)\n",
    "\n",
    "!head -n 3 Generated/train_20m_reg.vw"
   ]
  },
  {
   "cell_type": "code",
   "execution_count": 12,
   "metadata": {},
   "outputs": [
    {
     "name": "stdout",
     "output_type": "stream",
     "text": [
      "Training done - 95 seconds\n",
      "Start evaluation\n",
      "Validation logloss:\t 0.8990432981602857\n",
      "Time:\t\t147 seconds\n"
     ]
    }
   ],
   "source": [
    "t_start = time.time()\n",
    "!vw Generated/train_20m_reg.vw -f VwHelpFiles/model --loss_function squared --learning_rate 0.1 -b 18 --passes 5 --cache_file VwHelpFiles/cache --quiet\n",
    "print('Training done - {0} seconds'.format(int(time.time() - t_start)))\n",
    "! vw -i VwHelpFiles/model -t Generated/test_20m_reg.vw -r VwHelpFiles/pred --quiet\n",
    "!rm VwHelpFiles/model\n",
    "!rm VwHelpFiles/cache\n",
    "print('Start evaluation')\n",
    "print('Validation logloss:\\t {}'.format(get_rmse('Generated/ytest_20m_reg_2', 'VwHelpFiles/pred')))\n",
    "print('Time:\\t\\t{} seconds'.format(int(time.time() - t_start)))"
   ]
  },
  {
   "cell_type": "code",
   "execution_count": 13,
   "metadata": {},
   "outputs": [
    {
     "name": "stdout",
     "output_type": "stream",
     "text": [
      "Training done - 182 seconds\n",
      "Start evaluation\n",
      "Validation logloss:\t 0.8799434325077914\n",
      "Time:\t\t227 seconds\n"
     ]
    }
   ],
   "source": [
    "t_start = time.time()\n",
    "!vw Generated/train_20m_reg.vw -f VwHelpFiles/model --loss_function squared --learning_rate 0.1 -b 18 --passes 10 --cache_file VwHelpFiles/cache --quiet\n",
    "print('Training done - {0} seconds'.format(int(time.time() - t_start)))\n",
    "! vw -i VwHelpFiles/model -t Generated/test_20m_reg.vw -r VwHelpFiles/pred --quiet\n",
    "!rm VwHelpFiles/model\n",
    "!rm VwHelpFiles/cache\n",
    "print('Start evaluation')\n",
    "print('Validation logloss:\\t {}'.format(get_rmse('Generated/ytest_20m_reg_2', 'VwHelpFiles/pred')))\n",
    "print('Time:\\t\\t{} seconds'.format(int(time.time() - t_start)))"
   ]
  },
  {
   "cell_type": "code",
   "execution_count": 14,
   "metadata": {},
   "outputs": [
    {
     "name": "stdout",
     "output_type": "stream",
     "text": [
      "Training done - 684 seconds\n",
      "Start evaluation\n",
      "Validation logloss:\t 0.8621596496482833\n",
      "Time:\t\t728 seconds\n"
     ]
    }
   ],
   "source": [
    "t_start = time.time()\n",
    "!vw Generated/train_20m_reg.vw -f VwHelpFiles/model --loss_function squared --learning_rate 0.1 -b 18 --passes 40 --cache_file VwHelpFiles/cache --quiet\n",
    "print('Training done - {0} seconds'.format(int(time.time() - t_start)))\n",
    "! vw -i VwHelpFiles/model -t Generated/test_20m_reg.vw -r VwHelpFiles/pred --quiet\n",
    "!rm VwHelpFiles/model\n",
    "!rm VwHelpFiles/cache\n",
    "print('Start evaluation')\n",
    "print('Validation logloss:\\t {}'.format(get_rmse('Generated/ytest_20m_reg_2', 'VwHelpFiles/pred')))\n",
    "print('Time:\\t\\t{} seconds'.format(int(time.time() - t_start)))"
   ]
  },
  {
   "cell_type": "code",
   "execution_count": 15,
   "metadata": {},
   "outputs": [
    {
     "name": "stdout",
     "output_type": "stream",
     "text": [
      "Training done - 883 seconds\n",
      "Start evaluation\n",
      "Validation logloss:\t 0.8611600615122224\n",
      "Time:\t\t932 seconds\n"
     ]
    }
   ],
   "source": [
    "t_start = time.time()\n",
    "!vw Generated/train_20m_reg.vw -f VwHelpFiles/model --loss_function squared --learning_rate 0.1 -b 18 --passes 80 --cache_file VwHelpFiles/cache --quiet\n",
    "print('Training done - {0} seconds'.format(int(time.time() - t_start)))\n",
    "! vw -i VwHelpFiles/model -t Generated/test_20m_reg.vw -r VwHelpFiles/pred --quiet\n",
    "!rm VwHelpFiles/model\n",
    "!rm VwHelpFiles/cache\n",
    "print('Start evaluation')\n",
    "print('Validation logloss:\\t {}'.format(get_rmse('Generated/ytest_20m_reg_2', 'VwHelpFiles/pred')))\n",
    "print('Time:\\t\\t{} seconds'.format(int(time.time() - t_start)))"
   ]
  },
  {
   "cell_type": "code",
   "execution_count": null,
   "metadata": {},
   "outputs": [],
   "source": []
  }
 ],
 "metadata": {
  "kernelspec": {
   "display_name": "Python 3",
   "language": "python",
   "name": "python3"
  },
  "language_info": {
   "codemirror_mode": {
    "name": "ipython",
    "version": 3
   },
   "file_extension": ".py",
   "mimetype": "text/x-python",
   "name": "python",
   "nbconvert_exporter": "python",
   "pygments_lexer": "ipython3",
   "version": "3.6.4"
  }
 },
 "nbformat": 4,
 "nbformat_minor": 2
}
